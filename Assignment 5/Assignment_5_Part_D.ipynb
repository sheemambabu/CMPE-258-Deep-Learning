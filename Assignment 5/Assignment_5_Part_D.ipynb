{
  "nbformat": 4,
  "nbformat_minor": 0,
  "metadata": {
    "colab": {
      "name": "Assignment_5_Part_D.ipynb",
      "provenance": [],
      "collapsed_sections": [],
      "include_colab_link": true
    },
    "kernelspec": {
      "display_name": "Python 3",
      "name": "python3"
    },
    "accelerator": "GPU"
  },
  "cells": [
    {
      "cell_type": "markdown",
      "metadata": {
        "id": "view-in-github",
        "colab_type": "text"
      },
      "source": [
        "<a href=\"https://colab.research.google.com/github/sheemambabu/CMPE-258-Deep-Learning/blob/main/Assignment%205/Assignment_5_Part_D.ipynb\" target=\"_parent\"><img src=\"https://colab.research.google.com/assets/colab-badge.svg\" alt=\"Open In Colab\"/></a>"
      ]
    },
    {
      "cell_type": "markdown",
      "metadata": {
        "id": "cfoUh0E3tQG4"
      },
      "source": [
        "# **CMPE-258 Deep Learning**\n",
        "\n",
        "## Assignment 5 Part D\n",
        "\n",
        "## By: Sheema Murugesh Babu (SJSU_ID: 015217176)"
      ]
    },
    {
      "cell_type": "markdown",
      "metadata": {
        "id": "pMFVQxHDtRaX"
      },
      "source": [
        "## Part D: Implementation using Pytorch"
      ]
    },
    {
      "cell_type": "code",
      "metadata": {
        "id": "5s7WVea9A5Og"
      },
      "source": [
        "! pip install -q kaggle"
      ],
      "execution_count": null,
      "outputs": []
    },
    {
      "cell_type": "code",
      "metadata": {
        "id": "UiMT0Oi8tt6W"
      },
      "source": [
        "import warnings\n",
        "warnings.filterwarnings('ignore')"
      ],
      "execution_count": null,
      "outputs": []
    },
    {
      "cell_type": "markdown",
      "metadata": {
        "id": "NrbIBptGCpp2"
      },
      "source": [
        "# Data Imports"
      ]
    },
    {
      "cell_type": "code",
      "metadata": {
        "id": "7ZwxmwpWA5L3"
      },
      "source": [
        "import json\n",
        "kaggle_json = {\"username\":\"sheemamurugeshbabu\",\"key\":\"e92e856b92f83bef26efee9ee6e4c25c\"}"
      ],
      "execution_count": null,
      "outputs": []
    },
    {
      "cell_type": "code",
      "metadata": {
        "id": "VRpu4ty1A5JH"
      },
      "source": [
        "import io,os\n",
        "os.makedirs('/content/.kaggle/',exist_ok=True)\n",
        "os.makedirs('/root/.kaggle/',exist_ok=True)\n",
        "\n",
        "with open('/content/.kaggle/kaggle.json', 'w') as file:\n",
        "  json.dump(kaggle_json, file)\n",
        "\n",
        "!cp /content/.kaggle/kaggle.json ~/.kaggle/kaggle.json"
      ],
      "execution_count": null,
      "outputs": []
    },
    {
      "cell_type": "code",
      "metadata": {
        "colab": {
          "base_uri": "https://localhost:8080/"
        },
        "id": "-15BQbtAA5Gi",
        "outputId": "cacbde62-add4-4be6-e41b-c0f3bd662df5"
      },
      "source": [
        "! kaggle competitions download -c new-york-city-taxi-fare-prediction"
      ],
      "execution_count": null,
      "outputs": [
        {
          "output_type": "stream",
          "text": [
            "Warning: Your Kaggle API key is readable by other users on this system! To fix this, you can run 'chmod 600 /root/.kaggle/kaggle.json'\n",
            "Warning: Looks like you're using an outdated API Version, please consider updating (server 1.5.12 / client 1.5.4)\n",
            "Downloading train.csv.zip to /content\n",
            " 99% 1.55G/1.56G [00:15<00:00, 96.2MB/s]\n",
            "100% 1.56G/1.56G [00:15<00:00, 106MB/s] \n",
            "Downloading test.csv to /content\n",
            "  0% 0.00/960k [00:00<?, ?B/s]\n",
            "100% 960k/960k [00:00<00:00, 137MB/s]\n",
            "Downloading GCP-Coupons-Instructions.rtf to /content\n",
            "  0% 0.00/486 [00:00<?, ?B/s]\n",
            "100% 486/486 [00:00<00:00, 490kB/s]\n",
            "Downloading sample_submission.csv to /content\n",
            "  0% 0.00/335k [00:00<?, ?B/s]\n",
            "100% 335k/335k [00:00<00:00, 81.9MB/s]\n"
          ],
          "name": "stdout"
        }
      ]
    },
    {
      "cell_type": "code",
      "metadata": {
        "colab": {
          "base_uri": "https://localhost:8080/"
        },
        "id": "JQUpdXKHA5EF",
        "outputId": "1a50340a-2a7c-4b5e-db3b-a11ffcd717f5"
      },
      "source": [
        "! mkdir train\n",
        "! unzip train.csv.zip -d train"
      ],
      "execution_count": null,
      "outputs": [
        {
          "output_type": "stream",
          "text": [
            "Archive:  train.csv.zip\n",
            "  inflating: train/train.csv         \n"
          ],
          "name": "stdout"
        }
      ]
    },
    {
      "cell_type": "code",
      "metadata": {
        "id": "wO7hG2GIwpdu"
      },
      "source": [
        "import numpy as np\n",
        "import pandas as pd\n",
        "\n",
        "import matplotlib.pyplot as plt\n",
        "import seaborn as sns\n",
        "% matplotlib inline\n",
        "\n",
        "plt.style.use('seaborn-whitegrid')"
      ],
      "execution_count": null,
      "outputs": []
    },
    {
      "cell_type": "code",
      "metadata": {
        "colab": {
          "base_uri": "https://localhost:8080/",
          "height": 204
        },
        "id": "6sXTgBYkCXFC",
        "outputId": "f301c52e-3ed4-4e49-dfdf-c7b7003c3a14"
      },
      "source": [
        "train=pd.read_csv('/content/train/train.csv',nrows=20000)\n",
        "train.head()"
      ],
      "execution_count": null,
      "outputs": [
        {
          "output_type": "execute_result",
          "data": {
            "text/html": [
              "<div>\n",
              "<style scoped>\n",
              "    .dataframe tbody tr th:only-of-type {\n",
              "        vertical-align: middle;\n",
              "    }\n",
              "\n",
              "    .dataframe tbody tr th {\n",
              "        vertical-align: top;\n",
              "    }\n",
              "\n",
              "    .dataframe thead th {\n",
              "        text-align: right;\n",
              "    }\n",
              "</style>\n",
              "<table border=\"1\" class=\"dataframe\">\n",
              "  <thead>\n",
              "    <tr style=\"text-align: right;\">\n",
              "      <th></th>\n",
              "      <th>key</th>\n",
              "      <th>fare_amount</th>\n",
              "      <th>pickup_datetime</th>\n",
              "      <th>pickup_longitude</th>\n",
              "      <th>pickup_latitude</th>\n",
              "      <th>dropoff_longitude</th>\n",
              "      <th>dropoff_latitude</th>\n",
              "      <th>passenger_count</th>\n",
              "    </tr>\n",
              "  </thead>\n",
              "  <tbody>\n",
              "    <tr>\n",
              "      <th>0</th>\n",
              "      <td>2009-06-15 17:26:21.0000001</td>\n",
              "      <td>4.5</td>\n",
              "      <td>2009-06-15 17:26:21 UTC</td>\n",
              "      <td>-73.844311</td>\n",
              "      <td>40.721319</td>\n",
              "      <td>-73.841610</td>\n",
              "      <td>40.712278</td>\n",
              "      <td>1</td>\n",
              "    </tr>\n",
              "    <tr>\n",
              "      <th>1</th>\n",
              "      <td>2010-01-05 16:52:16.0000002</td>\n",
              "      <td>16.9</td>\n",
              "      <td>2010-01-05 16:52:16 UTC</td>\n",
              "      <td>-74.016048</td>\n",
              "      <td>40.711303</td>\n",
              "      <td>-73.979268</td>\n",
              "      <td>40.782004</td>\n",
              "      <td>1</td>\n",
              "    </tr>\n",
              "    <tr>\n",
              "      <th>2</th>\n",
              "      <td>2011-08-18 00:35:00.00000049</td>\n",
              "      <td>5.7</td>\n",
              "      <td>2011-08-18 00:35:00 UTC</td>\n",
              "      <td>-73.982738</td>\n",
              "      <td>40.761270</td>\n",
              "      <td>-73.991242</td>\n",
              "      <td>40.750562</td>\n",
              "      <td>2</td>\n",
              "    </tr>\n",
              "    <tr>\n",
              "      <th>3</th>\n",
              "      <td>2012-04-21 04:30:42.0000001</td>\n",
              "      <td>7.7</td>\n",
              "      <td>2012-04-21 04:30:42 UTC</td>\n",
              "      <td>-73.987130</td>\n",
              "      <td>40.733143</td>\n",
              "      <td>-73.991567</td>\n",
              "      <td>40.758092</td>\n",
              "      <td>1</td>\n",
              "    </tr>\n",
              "    <tr>\n",
              "      <th>4</th>\n",
              "      <td>2010-03-09 07:51:00.000000135</td>\n",
              "      <td>5.3</td>\n",
              "      <td>2010-03-09 07:51:00 UTC</td>\n",
              "      <td>-73.968095</td>\n",
              "      <td>40.768008</td>\n",
              "      <td>-73.956655</td>\n",
              "      <td>40.783762</td>\n",
              "      <td>1</td>\n",
              "    </tr>\n",
              "  </tbody>\n",
              "</table>\n",
              "</div>"
            ],
            "text/plain": [
              "                             key  ...  passenger_count\n",
              "0    2009-06-15 17:26:21.0000001  ...                1\n",
              "1    2010-01-05 16:52:16.0000002  ...                1\n",
              "2   2011-08-18 00:35:00.00000049  ...                2\n",
              "3    2012-04-21 04:30:42.0000001  ...                1\n",
              "4  2010-03-09 07:51:00.000000135  ...                1\n",
              "\n",
              "[5 rows x 8 columns]"
            ]
          },
          "metadata": {
            "tags": []
          },
          "execution_count": 8
        }
      ]
    },
    {
      "cell_type": "code",
      "metadata": {
        "colab": {
          "base_uri": "https://localhost:8080/"
        },
        "id": "wemzQjt9xf3F",
        "outputId": "0b974a42-a6d5-4f73-b6d8-74eac49e1b33"
      },
      "source": [
        "train.info()"
      ],
      "execution_count": null,
      "outputs": [
        {
          "output_type": "stream",
          "text": [
            "<class 'pandas.core.frame.DataFrame'>\n",
            "RangeIndex: 20000 entries, 0 to 19999\n",
            "Data columns (total 8 columns):\n",
            " #   Column             Non-Null Count  Dtype  \n",
            "---  ------             --------------  -----  \n",
            " 0   key                20000 non-null  object \n",
            " 1   fare_amount        20000 non-null  float64\n",
            " 2   pickup_datetime    20000 non-null  object \n",
            " 3   pickup_longitude   20000 non-null  float64\n",
            " 4   pickup_latitude    20000 non-null  float64\n",
            " 5   dropoff_longitude  20000 non-null  float64\n",
            " 6   dropoff_latitude   20000 non-null  float64\n",
            " 7   passenger_count    20000 non-null  int64  \n",
            "dtypes: float64(5), int64(1), object(2)\n",
            "memory usage: 1.2+ MB\n"
          ],
          "name": "stdout"
        }
      ]
    },
    {
      "cell_type": "code",
      "metadata": {
        "colab": {
          "base_uri": "https://localhost:8080/",
          "height": 297
        },
        "id": "I2vVy_Kbxf0P",
        "outputId": "ca6f47e2-f179-49ff-ec52-b63f5bb9c140"
      },
      "source": [
        "train.describe()"
      ],
      "execution_count": null,
      "outputs": [
        {
          "output_type": "execute_result",
          "data": {
            "text/html": [
              "<div>\n",
              "<style scoped>\n",
              "    .dataframe tbody tr th:only-of-type {\n",
              "        vertical-align: middle;\n",
              "    }\n",
              "\n",
              "    .dataframe tbody tr th {\n",
              "        vertical-align: top;\n",
              "    }\n",
              "\n",
              "    .dataframe thead th {\n",
              "        text-align: right;\n",
              "    }\n",
              "</style>\n",
              "<table border=\"1\" class=\"dataframe\">\n",
              "  <thead>\n",
              "    <tr style=\"text-align: right;\">\n",
              "      <th></th>\n",
              "      <th>fare_amount</th>\n",
              "      <th>pickup_longitude</th>\n",
              "      <th>pickup_latitude</th>\n",
              "      <th>dropoff_longitude</th>\n",
              "      <th>dropoff_latitude</th>\n",
              "      <th>passenger_count</th>\n",
              "    </tr>\n",
              "  </thead>\n",
              "  <tbody>\n",
              "    <tr>\n",
              "      <th>count</th>\n",
              "      <td>20000.000000</td>\n",
              "      <td>20000.000000</td>\n",
              "      <td>20000.000000</td>\n",
              "      <td>20000.000000</td>\n",
              "      <td>20000.000000</td>\n",
              "      <td>20000.000000</td>\n",
              "    </tr>\n",
              "    <tr>\n",
              "      <th>mean</th>\n",
              "      <td>11.303321</td>\n",
              "      <td>-72.478584</td>\n",
              "      <td>39.921043</td>\n",
              "      <td>-72.497221</td>\n",
              "      <td>39.913606</td>\n",
              "      <td>1.658000</td>\n",
              "    </tr>\n",
              "    <tr>\n",
              "      <th>std</th>\n",
              "      <td>9.541637</td>\n",
              "      <td>10.525376</td>\n",
              "      <td>6.678592</td>\n",
              "      <td>10.460530</td>\n",
              "      <td>6.139231</td>\n",
              "      <td>1.283674</td>\n",
              "    </tr>\n",
              "    <tr>\n",
              "      <th>min</th>\n",
              "      <td>-3.000000</td>\n",
              "      <td>-74.438233</td>\n",
              "      <td>-74.006893</td>\n",
              "      <td>-84.654241</td>\n",
              "      <td>-74.006377</td>\n",
              "      <td>0.000000</td>\n",
              "    </tr>\n",
              "    <tr>\n",
              "      <th>25%</th>\n",
              "      <td>6.000000</td>\n",
              "      <td>-73.992150</td>\n",
              "      <td>40.734706</td>\n",
              "      <td>-73.991224</td>\n",
              "      <td>40.734537</td>\n",
              "      <td>1.000000</td>\n",
              "    </tr>\n",
              "    <tr>\n",
              "      <th>50%</th>\n",
              "      <td>8.500000</td>\n",
              "      <td>-73.981711</td>\n",
              "      <td>40.752680</td>\n",
              "      <td>-73.980217</td>\n",
              "      <td>40.753583</td>\n",
              "      <td>1.000000</td>\n",
              "    </tr>\n",
              "    <tr>\n",
              "      <th>75%</th>\n",
              "      <td>12.500000</td>\n",
              "      <td>-73.966802</td>\n",
              "      <td>40.767443</td>\n",
              "      <td>-73.963729</td>\n",
              "      <td>40.768135</td>\n",
              "      <td>2.000000</td>\n",
              "    </tr>\n",
              "    <tr>\n",
              "      <th>max</th>\n",
              "      <td>180.000000</td>\n",
              "      <td>40.766125</td>\n",
              "      <td>401.083332</td>\n",
              "      <td>40.802437</td>\n",
              "      <td>41.366138</td>\n",
              "      <td>6.000000</td>\n",
              "    </tr>\n",
              "  </tbody>\n",
              "</table>\n",
              "</div>"
            ],
            "text/plain": [
              "        fare_amount  pickup_longitude  ...  dropoff_latitude  passenger_count\n",
              "count  20000.000000      20000.000000  ...      20000.000000     20000.000000\n",
              "mean      11.303321        -72.478584  ...         39.913606         1.658000\n",
              "std        9.541637         10.525376  ...          6.139231         1.283674\n",
              "min       -3.000000        -74.438233  ...        -74.006377         0.000000\n",
              "25%        6.000000        -73.992150  ...         40.734537         1.000000\n",
              "50%        8.500000        -73.981711  ...         40.753583         1.000000\n",
              "75%       12.500000        -73.966802  ...         40.768135         2.000000\n",
              "max      180.000000         40.766125  ...         41.366138         6.000000\n",
              "\n",
              "[8 rows x 6 columns]"
            ]
          },
          "metadata": {
            "tags": []
          },
          "execution_count": 10
        }
      ]
    },
    {
      "cell_type": "code",
      "metadata": {
        "colab": {
          "base_uri": "https://localhost:8080/"
        },
        "id": "lN48y4vCxfCB",
        "outputId": "6a5d5b96-0894-4f24-cf39-3bff797d424d"
      },
      "source": [
        "print(\"Old size: %d\" % len(train))\n",
        "train = train[train.fare_amount >=0]\n",
        "print(\"New size: %d\" % len(train))"
      ],
      "execution_count": null,
      "outputs": [
        {
          "output_type": "stream",
          "text": [
            "Old size: 20000\n",
            "New size: 19997\n"
          ],
          "name": "stdout"
        }
      ]
    },
    {
      "cell_type": "code",
      "metadata": {
        "colab": {
          "base_uri": "https://localhost:8080/"
        },
        "id": "aBE51iJwxe-7",
        "outputId": "fa89566b-7efa-4516-aef0-e8b20c1a7fc4"
      },
      "source": [
        "# check missing data\n",
        "train.isnull().sum()"
      ],
      "execution_count": null,
      "outputs": [
        {
          "output_type": "execute_result",
          "data": {
            "text/plain": [
              "key                  0\n",
              "fare_amount          0\n",
              "pickup_datetime      0\n",
              "pickup_longitude     0\n",
              "pickup_latitude      0\n",
              "dropoff_longitude    0\n",
              "dropoff_latitude     0\n",
              "passenger_count      0\n",
              "dtype: int64"
            ]
          },
          "metadata": {
            "tags": []
          },
          "execution_count": 12
        }
      ]
    },
    {
      "cell_type": "code",
      "metadata": {
        "colab": {
          "base_uri": "https://localhost:8080/"
        },
        "id": "jphmX7EMxe74",
        "outputId": "4916ceac-8480-48ff-973b-a8cf1cedb6eb"
      },
      "source": [
        "print(\"Old size: %d\" % len(train))\n",
        "train = train.dropna(how='any', axis=0)\n",
        "print(\"New size after dropping missing value: %d\" % len(train))"
      ],
      "execution_count": null,
      "outputs": [
        {
          "output_type": "stream",
          "text": [
            "Old size: 19997\n",
            "New size after dropping missing value: 19997\n"
          ],
          "name": "stdout"
        }
      ]
    },
    {
      "cell_type": "code",
      "metadata": {
        "colab": {
          "base_uri": "https://localhost:8080/",
          "height": 510
        },
        "id": "Hsoukpgxxe5C",
        "outputId": "1e275e4c-e65a-4f7b-86bd-52b166551d8e"
      },
      "source": [
        "# Lets see the distribution of fare amount \n",
        "train.fare_amount.hist(bins=100, figsize = (16,8))\n",
        "plt.xlabel(\"Fare Amount\")\n",
        "plt.ylabel(\"Frequency\")"
      ],
      "execution_count": null,
      "outputs": [
        {
          "output_type": "execute_result",
          "data": {
            "text/plain": [
              "Text(0, 0.5, 'Frequency')"
            ]
          },
          "metadata": {
            "tags": []
          },
          "execution_count": 14
        },
        {
          "output_type": "display_data",
          "data": {
            "image/png": "[encoded data removed]",
            "text/plain": [
              "<Figure size 1152x576 with 1 Axes>"
            ]
          },
          "metadata": {
            "tags": []
          }
        }
      ]
    },
    {
      "cell_type": "code",
      "metadata": {
        "colab": {
          "base_uri": "https://localhost:8080/",
          "height": 510
        },
        "id": "IYDMfIIixe2K",
        "outputId": "408f5beb-02a6-48d5-9690-10a102eaa4c2"
      },
      "source": [
        "# Lets see the distribution of fare amount less than 100\n",
        "train[train.fare_amount <100 ].fare_amount.hist(bins=100, figsize = (16,8))\n",
        "plt.xlabel(\"Fare Amount\")\n",
        "plt.ylabel(\"Frequency\")\n"
      ],
      "execution_count": null,
      "outputs": [
        {
          "output_type": "execute_result",
          "data": {
            "text/plain": [
              "Text(0, 0.5, 'Frequency')"
            ]
          },
          "metadata": {
            "tags": []
          },
          "execution_count": 15
        },
        {
          "output_type": "display_data",
          "data": {
            "image/png": "[encoded data removed]",
            "text/plain": [
              "<Figure size 1152x576 with 1 Axes>"
            ]
          },
          "metadata": {
            "tags": []
          }
        }
      ]
    },
    {
      "cell_type": "code",
      "metadata": {
        "colab": {
          "base_uri": "https://localhost:8080/"
        },
        "id": "aFfRYfWmxexW",
        "outputId": "e0683c76-c4b4-481d-8e8c-204e8922c38b"
      },
      "source": [
        "train[train.fare_amount >100 ].shape"
      ],
      "execution_count": null,
      "outputs": [
        {
          "output_type": "execute_result",
          "data": {
            "text/plain": [
              "(5, 8)"
            ]
          },
          "metadata": {
            "tags": []
          },
          "execution_count": 16
        }
      ]
    },
    {
      "cell_type": "code",
      "metadata": {
        "colab": {
          "base_uri": "https://localhost:8080/"
        },
        "id": "6XqyIgmlxeuh",
        "outputId": "f4a012c8-f70e-498d-ea6a-b0677078bbd0"
      },
      "source": [
        "# checking for records where passanger count is 0\n",
        "train[train.passenger_count ==0].shape"
      ],
      "execution_count": null,
      "outputs": [
        {
          "output_type": "execute_result",
          "data": {
            "text/plain": [
              "(75, 8)"
            ]
          },
          "metadata": {
            "tags": []
          },
          "execution_count": 17
        }
      ]
    },
    {
      "cell_type": "code",
      "metadata": {
        "colab": {
          "base_uri": "https://localhost:8080/",
          "height": 510
        },
        "id": "jzFvg6rKz5Vo",
        "outputId": "f825b698-c4ad-456a-c319-3ec13130f899"
      },
      "source": [
        "plt.figure(figsize= (16,8))\n",
        "sns.boxplot(x = train[train.passenger_count< 7].passenger_count, y = train.fare_amount)"
      ],
      "execution_count": null,
      "outputs": [
        {
          "output_type": "execute_result",
          "data": {
            "text/plain": [
              "<matplotlib.axes._subplots.AxesSubplot at 0x7fa8361dc910>"
            ]
          },
          "metadata": {
            "tags": []
          },
          "execution_count": 18
        },
        {
          "output_type": "display_data",
          "data": {
            "image/png": "[encoded data removed]",
            "text/plain": [
              "<Figure size 1152x576 with 1 Axes>"
            ]
          },
          "metadata": {
            "tags": []
          }
        }
      ]
    },
    {
      "cell_type": "code",
      "metadata": {
        "id": "SYaCLh8jz5Sv"
      },
      "source": [
        "# this function will also be used with the test set below\n",
        "def select_within_test_boundary(df, BB):\n",
        "    return (df.pickup_longitude >= BB[0]) & (df.pickup_longitude <= BB[1]) & \\\n",
        "           (df.pickup_latitude >= BB[2]) & (df.pickup_latitude <= BB[3]) & \\\n",
        "           (df.dropoff_longitude >= BB[0]) & (df.dropoff_longitude <= BB[1]) & \\\n",
        "           (df.dropoff_latitude >= BB[2]) & (df.dropoff_latitude <= BB[3])"
      ],
      "execution_count": null,
      "outputs": []
    },
    {
      "cell_type": "code",
      "metadata": {
        "colab": {
          "base_uri": "https://localhost:8080/"
        },
        "id": "wSOuMggNz5QR",
        "outputId": "eb7510c1-8fb8-4534-ca46-342f4e87619f"
      },
      "source": [
        "BB = (-74.5, -72.8, 40.5, 41.8)\n",
        "print('Old size: %d' % len(train))\n",
        "train = train[select_within_test_boundary(train, BB)]\n",
        "print('New size: %d' % len(train))"
      ],
      "execution_count": null,
      "outputs": [
        {
          "output_type": "stream",
          "text": [
            "Old size: 19997\n",
            "New size: 19572\n"
          ],
          "name": "stdout"
        }
      ]
    },
    {
      "cell_type": "code",
      "metadata": {
        "id": "RE_RCtCzz5Nr"
      },
      "source": [
        "def prepare_time_features(df):\n",
        "    df['pickup_datetime'] = df['pickup_datetime'].str.slice(0, 16)\n",
        "    df['pickup_datetime'] = pd.to_datetime(df['pickup_datetime'], utc=True, format='%Y-%m-%d %H:%M')\n",
        "    df['hour_of_day'] = df.pickup_datetime.dt.hour\n",
        "    df['month'] = df.pickup_datetime.dt.month\n",
        "    df[\"year\"] = df.pickup_datetime.dt.year\n",
        "    df[\"weekday\"] = df.pickup_datetime.dt.weekday\n",
        "    return df"
      ],
      "execution_count": null,
      "outputs": []
    },
    {
      "cell_type": "code",
      "metadata": {
        "id": "d-A2DsGR04pW"
      },
      "source": [
        "train = prepare_time_features(train)"
      ],
      "execution_count": null,
      "outputs": []
    },
    {
      "cell_type": "code",
      "metadata": {
        "id": "7z81P5s81DDj"
      },
      "source": [
        "def distance(lat1, lon1, lat2, lon2):\n",
        "    p = 0.017453292519943295 # Pi/180\n",
        "    a = 0.5 - np.cos((lat2 - lat1) * p)/2 + np.cos(lat1 * p) * np.cos(lat2 * p) * (1 - np.cos((lon2 - lon1) * p)) / 2\n",
        "    return 0.6213712 * 12742 * np.arcsin(np.sqrt(a))"
      ],
      "execution_count": null,
      "outputs": []
    },
    {
      "cell_type": "code",
      "metadata": {
        "id": "9UkAWend1Tdf"
      },
      "source": [
        "train['distance_miles'] = distance(train.pickup_latitude, train.pickup_longitude, \\\n",
        "                                      train.dropoff_latitude, train.dropoff_longitude)"
      ],
      "execution_count": null,
      "outputs": []
    },
    {
      "cell_type": "code",
      "metadata": {
        "id": "S1PupU_P1YCf"
      },
      "source": [
        "def transform(data):\n",
        "    # Distances to nearby airports, \n",
        "    jfk = (-73.7781, 40.6413)\n",
        "    ewr = (-74.1745, 40.6895)\n",
        "    lgr = (-73.8740, 40.7769)\n",
        "\n",
        "    data['pickup_distance_to_jfk'] = distance(jfk[1], jfk[0],\n",
        "                                         data['pickup_latitude'], data['pickup_longitude'])\n",
        "    data['dropoff_distance_to_jfk'] = distance(jfk[1], jfk[0],\n",
        "                                           data['dropoff_latitude'], data['dropoff_longitude'])\n",
        "    data['pickup_distance_to_ewr'] = distance(ewr[1], ewr[0], \n",
        "                                          data['pickup_latitude'], data['pickup_longitude'])\n",
        "    data['dropoff_distance_to_ewr'] = distance(ewr[1], ewr[0],\n",
        "                                           data['dropoff_latitude'], data['dropoff_longitude'])\n",
        "    data['pickup_distance_to_lgr'] = distance(lgr[1], lgr[0],\n",
        "                                          data['pickup_latitude'], data['pickup_longitude'])\n",
        "    data['dropoff_distance_to_lgr'] = distance(lgr[1], lgr[0],\n",
        "                                           data['dropoff_latitude'], data['dropoff_longitude'])\n",
        "    \n",
        "    return data\n",
        "\n",
        "train = transform(train)"
      ],
      "execution_count": null,
      "outputs": []
    },
    {
      "cell_type": "code",
      "metadata": {
        "colab": {
          "base_uri": "https://localhost:8080/"
        },
        "id": "ZoERRUde1dnu",
        "outputId": "c37a4ca4-838f-4eab-a4fa-669a16e08f2c"
      },
      "source": [
        "print(\"old size: %d\" % len(train))\n",
        "train = train.drop(index= train[(train['distance_miles']==0)&(train['fare_amount']==0)].index, axis=0)\n",
        "print(\"New size: %d\" % len(train))"
      ],
      "execution_count": null,
      "outputs": [
        {
          "output_type": "stream",
          "text": [
            "old size: 19572\n",
            "New size: 19572\n"
          ],
          "name": "stdout"
        }
      ]
    },
    {
      "cell_type": "code",
      "metadata": {
        "colab": {
          "base_uri": "https://localhost:8080/"
        },
        "id": "pGMO0RnK1qb5",
        "outputId": "dc2b1c28-af92-4348-fe80-a9709491049d"
      },
      "source": [
        "print(\"old size: %d\" % len(train))\n",
        "train = train.drop(index= train[train['fare_amount']==0].index, axis=0)\n",
        "print(\"New size: %d\" % len(train))"
      ],
      "execution_count": null,
      "outputs": [
        {
          "output_type": "stream",
          "text": [
            "old size: 19572\n",
            "New size: 19571\n"
          ],
          "name": "stdout"
        }
      ]
    },
    {
      "cell_type": "code",
      "metadata": {
        "colab": {
          "base_uri": "https://localhost:8080/"
        },
        "id": "REmFVXBq1tNi",
        "outputId": "eb8ecf43-a8fc-4924-c9cf-ccf3207e56b6"
      },
      "source": [
        "print(\"old size: %d\" % len(train))\n",
        "train = train.drop(index= train[train['fare_amount'] < 2.5].index, axis=0)\n",
        "print(\"New size: %d\" % len(train))"
      ],
      "execution_count": null,
      "outputs": [
        {
          "output_type": "stream",
          "text": [
            "old size: 19571\n",
            "New size: 19570\n"
          ],
          "name": "stdout"
        }
      ]
    },
    {
      "cell_type": "code",
      "metadata": {
        "colab": {
          "base_uri": "https://localhost:8080/"
        },
        "id": "D7Dj8W1E1yNQ",
        "outputId": "3b11876f-43a0-4172-9622-7eb4e6fbd3c3"
      },
      "source": [
        "print(\"old size: %d\" % len(train))\n",
        "train = train.drop(index= train[train.passenger_count >= 7].index, axis=0)\n",
        "print(\"New size: %d\" % len(train))"
      ],
      "execution_count": null,
      "outputs": [
        {
          "output_type": "stream",
          "text": [
            "old size: 19570\n",
            "New size: 19570\n"
          ],
          "name": "stdout"
        }
      ]
    },
    {
      "cell_type": "code",
      "metadata": {
        "colab": {
          "base_uri": "https://localhost:8080/"
        },
        "id": "29nmqD9O2MnO",
        "outputId": "60f149fc-1e55-4c36-9bea-a75a5bdcb113"
      },
      "source": [
        "# create copy of the data set\n",
        "df_train = train.drop(columns= ['key','pickup_datetime'], axis= 1).copy()\n",
        "print(df_train.shape)\n"
      ],
      "execution_count": null,
      "outputs": [
        {
          "output_type": "stream",
          "text": [
            "(19570, 17)\n"
          ],
          "name": "stdout"
        }
      ]
    },
    {
      "cell_type": "code",
      "metadata": {
        "colab": {
          "base_uri": "https://localhost:8080/"
        },
        "id": "2ZKd-hgm2QS-",
        "outputId": "5b064a0d-20a1-47cb-f796-1b6bb1b66229"
      },
      "source": [
        "from sklearn.model_selection import train_test_split \n",
        "X_train, X_test, y_train, y_test = train_test_split(df_train.drop('fare_amount', axis=1),\n",
        "                                                    df_train['fare_amount'], test_size=0.2, random_state = 42)\n",
        "print(X_train.shape)\n",
        "print(X_test.shape)\n",
        "print(y_train.shape)\n",
        "print(y_test.shape)"
      ],
      "execution_count": null,
      "outputs": [
        {
          "output_type": "stream",
          "text": [
            "(15656, 16)\n",
            "(3914, 16)\n",
            "(15656,)\n",
            "(3914,)\n"
          ],
          "name": "stdout"
        }
      ]
    },
    {
      "cell_type": "code",
      "metadata": {
        "id": "FwLWg_qs2myA"
      },
      "source": [
        "import xgboost as xgb"
      ],
      "execution_count": null,
      "outputs": []
    },
    {
      "cell_type": "code",
      "metadata": {
        "id": "FrDkXr9P2ql-"
      },
      "source": [
        "params = {\n",
        "   \n",
        "    'max_depth': 7,\n",
        "    'gamma' :0,\n",
        "    'eta':.03, \n",
        "    'subsample': 1,\n",
        "    'colsample_bytree': 0.9, \n",
        "    'objective':'reg:linear',\n",
        "    'eval_metric':'rmse',\n",
        "    'silent': 0\n",
        "}"
      ],
      "execution_count": null,
      "outputs": []
    },
    {
      "cell_type": "code",
      "metadata": {
        "colab": {
          "base_uri": "https://localhost:8080/"
        },
        "id": "Q90Y25W22sbY",
        "outputId": "ece6f209-e3c9-4a26-b7c5-449e199e06b5"
      },
      "source": [
        "def XGBmodel(X_train,X_test,y_train,y_test,params):\n",
        "    matrix_train = xgb.DMatrix(X_train,label=y_train)\n",
        "    matrix_test = xgb.DMatrix(X_test,label=y_test)\n",
        "    model=xgb.train(params=params,\n",
        "                    dtrain=matrix_train,num_boost_round=5000, \n",
        "                    early_stopping_rounds=10,evals=[(matrix_test,'test')])\n",
        "    return model\n",
        "\n",
        "model = XGBmodel(X_train,X_test,y_train,y_test,params)"
      ],
      "execution_count": null,
      "outputs": [
        {
          "output_type": "stream",
          "text": [
            "[01:46:20] WARNING: /workspace/src/objective/regression_obj.cu:152: reg:linear is now deprecated in favor of reg:squarederror.\n",
            "[0]\ttest-rmse:14.0227\n",
            "Will train until test-rmse hasn't improved in 10 rounds.\n",
            "[1]\ttest-rmse:13.6469\n",
            "[2]\ttest-rmse:13.3014\n",
            "[3]\ttest-rmse:12.948\n",
            "[4]\ttest-rmse:12.607\n",
            "[5]\ttest-rmse:12.2774\n",
            "[6]\ttest-rmse:11.9579\n",
            "[7]\ttest-rmse:11.649\n",
            "[8]\ttest-rmse:11.3471\n",
            "[9]\ttest-rmse:11.0587\n",
            "[10]\ttest-rmse:10.7921\n",
            "[11]\ttest-rmse:10.5208\n",
            "[12]\ttest-rmse:10.2578\n",
            "[13]\ttest-rmse:10.003\n",
            "[14]\ttest-rmse:9.75695\n",
            "[15]\ttest-rmse:9.51677\n",
            "[16]\ttest-rmse:9.28942\n",
            "[17]\ttest-rmse:9.06845\n",
            "[18]\ttest-rmse:8.85512\n",
            "[19]\ttest-rmse:8.64909\n",
            "[20]\ttest-rmse:8.44952\n",
            "[21]\ttest-rmse:8.25781\n",
            "[22]\ttest-rmse:8.08628\n",
            "[23]\ttest-rmse:7.91122\n",
            "[24]\ttest-rmse:7.74129\n",
            "[25]\ttest-rmse:7.57872\n",
            "[26]\ttest-rmse:7.41894\n",
            "[27]\ttest-rmse:7.26642\n",
            "[28]\ttest-rmse:7.11756\n",
            "[29]\ttest-rmse:6.97602\n",
            "[30]\ttest-rmse:6.83867\n",
            "[31]\ttest-rmse:6.70873\n",
            "[32]\ttest-rmse:6.58341\n",
            "[33]\ttest-rmse:6.46209\n",
            "[34]\ttest-rmse:6.3491\n",
            "[35]\ttest-rmse:6.23876\n",
            "[36]\ttest-rmse:6.13275\n",
            "[37]\ttest-rmse:6.03137\n",
            "[38]\ttest-rmse:5.9353\n",
            "[39]\ttest-rmse:5.84126\n",
            "[40]\ttest-rmse:5.75336\n",
            "[41]\ttest-rmse:5.66856\n",
            "[42]\ttest-rmse:5.58659\n",
            "[43]\ttest-rmse:5.51076\n",
            "[44]\ttest-rmse:5.43435\n",
            "[45]\ttest-rmse:5.36336\n",
            "[46]\ttest-rmse:5.29916\n",
            "[47]\ttest-rmse:5.2349\n",
            "[48]\ttest-rmse:5.17155\n",
            "[49]\ttest-rmse:5.11386\n",
            "[50]\ttest-rmse:5.055\n",
            "[51]\ttest-rmse:5.00223\n",
            "[52]\ttest-rmse:4.94724\n",
            "[53]\ttest-rmse:4.89856\n",
            "[54]\ttest-rmse:4.85021\n",
            "[55]\ttest-rmse:4.80525\n",
            "[56]\ttest-rmse:4.76179\n",
            "[57]\ttest-rmse:4.72053\n",
            "[58]\ttest-rmse:4.67912\n",
            "[59]\ttest-rmse:4.64051\n",
            "[60]\ttest-rmse:4.60525\n",
            "[61]\ttest-rmse:4.57139\n",
            "[62]\ttest-rmse:4.54053\n",
            "[63]\ttest-rmse:4.51042\n",
            "[64]\ttest-rmse:4.4812\n",
            "[65]\ttest-rmse:4.45313\n",
            "[66]\ttest-rmse:4.42674\n",
            "[67]\ttest-rmse:4.40193\n",
            "[68]\ttest-rmse:4.37758\n",
            "[69]\ttest-rmse:4.35453\n",
            "[70]\ttest-rmse:4.33178\n",
            "[71]\ttest-rmse:4.31034\n",
            "[72]\ttest-rmse:4.29172\n",
            "[73]\ttest-rmse:4.2732\n",
            "[74]\ttest-rmse:4.25536\n",
            "[75]\ttest-rmse:4.23825\n",
            "[76]\ttest-rmse:4.22323\n",
            "[77]\ttest-rmse:4.207\n",
            "[78]\ttest-rmse:4.19228\n",
            "[79]\ttest-rmse:4.17767\n",
            "[80]\ttest-rmse:4.16575\n",
            "[81]\ttest-rmse:4.15409\n",
            "[82]\ttest-rmse:4.14128\n",
            "[83]\ttest-rmse:4.12899\n",
            "[84]\ttest-rmse:4.11726\n",
            "[85]\ttest-rmse:4.10739\n",
            "[86]\ttest-rmse:4.09692\n",
            "[87]\ttest-rmse:4.0885\n",
            "[88]\ttest-rmse:4.07919\n",
            "[89]\ttest-rmse:4.07438\n",
            "[90]\ttest-rmse:4.06798\n",
            "[91]\ttest-rmse:4.05793\n",
            "[92]\ttest-rmse:4.05103\n",
            "[93]\ttest-rmse:4.04397\n",
            "[94]\ttest-rmse:4.03652\n",
            "[95]\ttest-rmse:4.03012\n",
            "[96]\ttest-rmse:4.02579\n",
            "[97]\ttest-rmse:4.02098\n",
            "[98]\ttest-rmse:4.01647\n",
            "[99]\ttest-rmse:4.01263\n",
            "[100]\ttest-rmse:4.0053\n",
            "[101]\ttest-rmse:4.00083\n",
            "[102]\ttest-rmse:3.99689\n",
            "[103]\ttest-rmse:3.99394\n",
            "[104]\ttest-rmse:3.99035\n",
            "[105]\ttest-rmse:3.98787\n",
            "[106]\ttest-rmse:3.98649\n",
            "[107]\ttest-rmse:3.98283\n",
            "[108]\ttest-rmse:3.98261\n",
            "[109]\ttest-rmse:3.97952\n",
            "[110]\ttest-rmse:3.97947\n",
            "[111]\ttest-rmse:3.97603\n",
            "[112]\ttest-rmse:3.97702\n",
            "[113]\ttest-rmse:3.977\n",
            "[114]\ttest-rmse:3.97519\n",
            "[115]\ttest-rmse:3.97293\n",
            "[116]\ttest-rmse:3.97104\n",
            "[117]\ttest-rmse:3.97141\n",
            "[118]\ttest-rmse:3.97095\n",
            "[119]\ttest-rmse:3.9716\n",
            "[120]\ttest-rmse:3.96926\n",
            "[121]\ttest-rmse:3.97013\n",
            "[122]\ttest-rmse:3.96986\n",
            "[123]\ttest-rmse:3.96849\n",
            "[124]\ttest-rmse:3.96717\n",
            "[125]\ttest-rmse:3.96587\n",
            "[126]\ttest-rmse:3.96461\n",
            "[127]\ttest-rmse:3.96348\n",
            "[128]\ttest-rmse:3.9636\n",
            "[129]\ttest-rmse:3.96351\n",
            "[130]\ttest-rmse:3.96237\n",
            "[131]\ttest-rmse:3.96199\n",
            "[132]\ttest-rmse:3.96054\n",
            "[133]\ttest-rmse:3.95882\n",
            "[134]\ttest-rmse:3.96052\n",
            "[135]\ttest-rmse:3.96049\n",
            "[136]\ttest-rmse:3.9591\n",
            "[137]\ttest-rmse:3.95845\n",
            "[138]\ttest-rmse:3.9573\n",
            "[139]\ttest-rmse:3.95762\n",
            "[140]\ttest-rmse:3.95704\n",
            "[141]\ttest-rmse:3.95891\n",
            "[142]\ttest-rmse:3.95508\n",
            "[143]\ttest-rmse:3.9538\n",
            "[144]\ttest-rmse:3.95173\n",
            "[145]\ttest-rmse:3.95194\n",
            "[146]\ttest-rmse:3.95176\n",
            "[147]\ttest-rmse:3.95058\n",
            "[148]\ttest-rmse:3.94923\n",
            "[149]\ttest-rmse:3.94778\n",
            "[150]\ttest-rmse:3.94627\n",
            "[151]\ttest-rmse:3.94398\n",
            "[152]\ttest-rmse:3.94165\n",
            "[153]\ttest-rmse:3.94131\n",
            "[154]\ttest-rmse:3.94068\n",
            "[155]\ttest-rmse:3.93987\n",
            "[156]\ttest-rmse:3.93887\n",
            "[157]\ttest-rmse:3.93805\n",
            "[158]\ttest-rmse:3.93616\n",
            "[159]\ttest-rmse:3.93668\n",
            "[160]\ttest-rmse:3.93659\n",
            "[161]\ttest-rmse:3.93595\n",
            "[162]\ttest-rmse:3.93523\n",
            "[163]\ttest-rmse:3.93411\n",
            "[164]\ttest-rmse:3.93388\n",
            "[165]\ttest-rmse:3.93359\n",
            "[166]\ttest-rmse:3.93255\n",
            "[167]\ttest-rmse:3.93376\n",
            "[168]\ttest-rmse:3.93304\n",
            "[169]\ttest-rmse:3.9326\n",
            "[170]\ttest-rmse:3.93011\n",
            "[171]\ttest-rmse:3.92869\n",
            "[172]\ttest-rmse:3.92878\n",
            "[173]\ttest-rmse:3.92772\n",
            "[174]\ttest-rmse:3.92592\n",
            "[175]\ttest-rmse:3.92553\n",
            "[176]\ttest-rmse:3.92622\n",
            "[177]\ttest-rmse:3.92672\n",
            "[178]\ttest-rmse:3.92715\n",
            "[179]\ttest-rmse:3.92515\n",
            "[180]\ttest-rmse:3.92348\n",
            "[181]\ttest-rmse:3.92224\n",
            "[182]\ttest-rmse:3.92208\n",
            "[183]\ttest-rmse:3.92323\n",
            "[184]\ttest-rmse:3.92233\n",
            "[185]\ttest-rmse:3.92185\n",
            "[186]\ttest-rmse:3.923\n",
            "[187]\ttest-rmse:3.92113\n",
            "[188]\ttest-rmse:3.92252\n",
            "[189]\ttest-rmse:3.92179\n",
            "[190]\ttest-rmse:3.92083\n",
            "[191]\ttest-rmse:3.92026\n",
            "[192]\ttest-rmse:3.91955\n",
            "[193]\ttest-rmse:3.9192\n",
            "[194]\ttest-rmse:3.91722\n",
            "[195]\ttest-rmse:3.91651\n",
            "[196]\ttest-rmse:3.91497\n",
            "[197]\ttest-rmse:3.91503\n",
            "[198]\ttest-rmse:3.91424\n",
            "[199]\ttest-rmse:3.91398\n",
            "[200]\ttest-rmse:3.91371\n",
            "[201]\ttest-rmse:3.91331\n",
            "[202]\ttest-rmse:3.91305\n",
            "[203]\ttest-rmse:3.91242\n",
            "[204]\ttest-rmse:3.91241\n",
            "[205]\ttest-rmse:3.91179\n",
            "[206]\ttest-rmse:3.91163\n",
            "[207]\ttest-rmse:3.91158\n",
            "[208]\ttest-rmse:3.91082\n",
            "[209]\ttest-rmse:3.91122\n",
            "[210]\ttest-rmse:3.91201\n",
            "[211]\ttest-rmse:3.9121\n",
            "[212]\ttest-rmse:3.91142\n",
            "[213]\ttest-rmse:3.91041\n",
            "[214]\ttest-rmse:3.91022\n",
            "[215]\ttest-rmse:3.90879\n",
            "[216]\ttest-rmse:3.90954\n",
            "[217]\ttest-rmse:3.90963\n",
            "[218]\ttest-rmse:3.90954\n",
            "[219]\ttest-rmse:3.90964\n",
            "[220]\ttest-rmse:3.90903\n",
            "[221]\ttest-rmse:3.90904\n",
            "[222]\ttest-rmse:3.90896\n",
            "[223]\ttest-rmse:3.90893\n",
            "[224]\ttest-rmse:3.90928\n",
            "[225]\ttest-rmse:3.90853\n",
            "[226]\ttest-rmse:3.90932\n",
            "[227]\ttest-rmse:3.90928\n",
            "[228]\ttest-rmse:3.9089\n",
            "[229]\ttest-rmse:3.90883\n",
            "[230]\ttest-rmse:3.9086\n",
            "[231]\ttest-rmse:3.91035\n",
            "[232]\ttest-rmse:3.91178\n",
            "[233]\ttest-rmse:3.91126\n",
            "[234]\ttest-rmse:3.91072\n",
            "[235]\ttest-rmse:3.9103\n",
            "Stopping. Best iteration:\n",
            "[225]\ttest-rmse:3.90853\n",
            "\n"
          ],
          "name": "stdout"
        }
      ]
    },
    {
      "cell_type": "markdown",
      "metadata": {
        "id": "oNtlbXbMNPq8"
      },
      "source": [
        "# References \n",
        "\n",
        "1) https://www.kaggle.com/sandeepkumar121995/eda-data-cleaning-xg-boost"
      ]
    }
  ]
}