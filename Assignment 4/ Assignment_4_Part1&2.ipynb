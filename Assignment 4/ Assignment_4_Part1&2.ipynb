{
  "nbformat": 4,
  "nbformat_minor": 0,
  "metadata": {
    "colab": {
      "name": "Assignment_4_Part1&2.ipynb",
      "provenance": [],
      "collapsed_sections": [
        "bVC-GxI5-ZTu"
      ],
      "authorship_tag": "ABX9TyOhR65+u0/hsTKD60lB+rNE",
      "include_colab_link": true
    },
    "kernelspec": {
      "name": "python3",
      "display_name": "Python 3"
    },
    "accelerator": "GPU"
  },
  "cells": [
    {
      "cell_type": "markdown",
      "metadata": {
        "id": "view-in-github",
        "colab_type": "text"
      },
      "source": [
        "<a href=\"https://colab.research.google.com/github/sheemambabu/CMPE-258-Deep-Learning/blob/main/Assignment%204/%20Assignment_4_Part1%262.ipynb\" target=\"_parent\"><img src=\"https://colab.research.google.com/assets/colab-badge.svg\" alt=\"Open In Colab\"/></a>"
      ]
    },
    {
      "cell_type": "markdown",
      "metadata": {
        "id": "AYH669cJStDg"
      },
      "source": [
        "# **CMPE-258 Deep Learning**\n",
        "\n",
        "## Assignment 4\n",
        "\n",
        "## By: Sheema Murugesh Babu (SJSU_ID: 015217176)\n",
        "\n"
      ]
    },
    {
      "cell_type": "markdown",
      "metadata": {
        "id": "H7CNjQcMoCJF"
      },
      "source": [
        "Assignment Description: Implementing a MNIST classifier with various training knobs with numpy and keras."
      ]
    },
    {
      "cell_type": "markdown",
      "metadata": {
        "id": "gSGuUMiwoHaw"
      },
      "source": [
        "*Note: Some of the code (especially the ones where I build the neural network architecture from scratch in numpy) have been reused from the previous assignment and modified according to this assignment's requirement. Also, all the links to the pages refered are mentioned in the references section.* "
      ]
    },
    {
      "cell_type": "markdown",
      "metadata": {
        "id": "Xrt4kKFuTDdy"
      },
      "source": [
        "# Importing the basic libraries."
      ]
    },
    {
      "cell_type": "code",
      "metadata": {
        "id": "-Jv_U8ElU2Qh"
      },
      "source": [
        "import numpy as np\n",
        "import matplotlib.pyplot as plt\n",
        "import warnings\n",
        "warnings.filterwarnings(\"ignore\")"
      ],
      "execution_count": null,
      "outputs": []
    },
    {
      "cell_type": "markdown",
      "metadata": {
        "id": "4lmtLjArhkDo"
      },
      "source": [
        "# Loading the MNIST data from keras."
      ]
    },
    {
      "cell_type": "code",
      "metadata": {
        "colab": {
          "base_uri": "https://localhost:8080/"
        },
        "id": "ZC4QFnmsSL1I",
        "outputId": "c76da02f-9a2b-4685-e0cc-5d9585f4c3c3"
      },
      "source": [
        "from keras.datasets import mnist\n",
        "\n",
        "(x_train, y_train), (x_test, y_test) = mnist.load_data()\n",
        "\n",
        "print('x train:', x_train.shape)\n",
        "print('y train:', y_train.shape)\n",
        "print('x test:', x_test.shape)\n",
        "print('y test:', y_test.shape)"
      ],
      "execution_count": null,
      "outputs": [
        {
          "output_type": "stream",
          "text": [
            "Downloading data from https://storage.googleapis.com/tensorflow/tf-keras-datasets/mnist.npz\n",
            "11493376/11490434 [==============================] - 0s 0us/step\n",
            "x train: (60000, 28, 28)\n",
            "y train: (60000,)\n",
            "x test: (10000, 28, 28)\n",
            "y test: (10000,)\n"
          ],
          "name": "stdout"
        }
      ]
    },
    {
      "cell_type": "markdown",
      "metadata": {
        "id": "GOT4sv9CsQMS"
      },
      "source": [
        "In the above output, we can see that the it is structured as a 3 dimensional array of instances, image-width and image-height."
      ]
    },
    {
      "cell_type": "code",
      "metadata": {
        "colab": {
          "base_uri": "https://localhost:8080/",
          "height": 268
        },
        "id": "iM6QrqxttJ7G",
        "outputId": "b28b9209-3dc0-4b5f-dd5d-f3efd739f188"
      },
      "source": [
        "# create a grid of 3x3 images\n",
        "for i in range(0, 9):\n",
        "\tplt.subplot(330 + 1 + i)\n",
        "\tplt.imshow(x_train[i], cmap=plt.get_cmap('gray'))\n",
        "# show the plot\n",
        "plt.show()"
      ],
      "execution_count": null,
      "outputs": [
        {
          "output_type": "display_data",
          "data": {
            "image/png": "[encoded data removed]",
            "text/plain": [
              "<Figure size 432x288 with 9 Axes>"
            ]
          },
          "metadata": {
            "tags": [],
            "needs_background": "light"
          }
        }
      ]
    },
    {
      "cell_type": "code",
      "metadata": {
        "colab": {
          "base_uri": "https://localhost:8080/"
        },
        "id": "n4yUuPJJsEof",
        "outputId": "f88af4e3-bef3-495f-8334-2249aebe133d"
      },
      "source": [
        "# Scaling and Normalizing\n",
        "# Reducing the 28*28 images to a 784 vector for each image.\n",
        "\n",
        "num_pixels = x_train.shape[1] * x_train.shape[2]\n",
        "X_train = x_train.reshape((x_train.shape[0], num_pixels)).astype('float32')\n",
        "X_test = x_test.reshape((x_test.shape[0], num_pixels)).astype('float32')\n",
        "\n",
        "print('X train:', X_train.shape)\n",
        "print('X test:', X_test.shape)"
      ],
      "execution_count": null,
      "outputs": [
        {
          "output_type": "stream",
          "text": [
            "X train: (60000, 784)\n",
            "X test: (10000, 784)\n"
          ],
          "name": "stdout"
        }
      ]
    },
    {
      "cell_type": "code",
      "metadata": {
        "id": "8MYo8Hyg38f6"
      },
      "source": [
        "# Normalizing the inputs (x data)\n",
        "\n",
        "X_train = X_train / 255\n",
        "X_test = X_test / 255"
      ],
      "execution_count": null,
      "outputs": []
    },
    {
      "cell_type": "code",
      "metadata": {
        "colab": {
          "base_uri": "https://localhost:8080/"
        },
        "id": "G7TjAZIJvaH4",
        "outputId": "85d87a18-b5e1-4063-a3da-2158d80a6423"
      },
      "source": [
        "from keras.utils import np_utils\n",
        "\n",
        "# One hot coding the outputs (y data)\n",
        "Y_train = np_utils.to_categorical(y_train)\n",
        "Y_test = np_utils.to_categorical(y_test)\n",
        "num_classes = Y_test.shape[1]\n",
        "\n",
        "# print(Y_train[0])\n",
        "print('No of classes:', num_classes)\n",
        "print('Y train:', Y_train.shape)\n",
        "print('Y test:', Y_test.shape)"
      ],
      "execution_count": null,
      "outputs": [
        {
          "output_type": "stream",
          "text": [
            "No of classes: 10\n",
            "Y train: (60000, 10)\n",
            "Y test: (10000, 10)\n"
          ],
          "name": "stdout"
        }
      ]
    },
    {
      "cell_type": "markdown",
      "metadata": {
        "id": "JNiU8zsRdpRF"
      },
      "source": [
        ""
      ]
    },
    {
      "cell_type": "markdown",
      "metadata": {
        "id": "bVC-GxI5-ZTu"
      },
      "source": [
        "# Training the dataset using augmentation"
      ]
    },
    {
      "cell_type": "code",
      "metadata": {
        "colab": {
          "base_uri": "https://localhost:8080/"
        },
        "id": "7NvT1Ppr-hwj",
        "outputId": "ab2d4674-231f-4c2d-f077-4b37da5828ec"
      },
      "source": [
        "aug_X_train= x_train[0:500]\n",
        "aug_y_train = y_train[0:500]\n",
        "\n",
        "aug_X_train = aug_X_train.reshape(-1,28,28,1)\n",
        "aug_X_train.shape"
      ],
      "execution_count": null,
      "outputs": [
        {
          "output_type": "execute_result",
          "data": {
            "text/plain": [
              "(500, 28, 28, 1)"
            ]
          },
          "metadata": {
            "tags": []
          },
          "execution_count": 7
        }
      ]
    },
    {
      "cell_type": "code",
      "metadata": {
        "id": "8E4MfIhR_fWZ"
      },
      "source": [
        "# Implemeting the Keras Datagen refered from \n",
        "# https://www.kaggle.com/yassineghouzam/introduction-to-cnn-keras-0-997-top-6 \n",
        "\n",
        "from keras.preprocessing.image import ImageDataGenerator\n",
        "\n",
        "datagen_sample = ImageDataGenerator(\n",
        "        featurewise_center=False, \n",
        "        samplewise_center=False,  \n",
        "        featurewise_std_normalization=False,  \n",
        "        samplewise_std_normalization=False,  \n",
        "        zca_whitening=False,  \n",
        "        rotation_range=10, \n",
        "        zoom_range = 0.1, \n",
        "        width_shift_range=0.1, \n",
        "        height_shift_range=0.1,  \n",
        "        horizontal_flip=False, \n",
        "        vertical_flip=False) \n",
        "\n",
        "datagen_sample.fit(aug_X_train)"
      ],
      "execution_count": null,
      "outputs": []
    },
    {
      "cell_type": "code",
      "metadata": {
        "colab": {
          "base_uri": "https://localhost:8080/"
        },
        "id": "YdR0z23lEbo7",
        "outputId": "b4bfae3c-9e67-4910-9b4b-8de69e2508ad"
      },
      "source": [
        "# Configure batch size and retrieve one batch of images\n",
        "for X_batch, y_batch in datagen_sample.flow(aug_X_train, aug_y_train, batch_size=9):\n",
        "\t# create a grid of 3x3 images\n",
        "\tfor i in range(0, 9):\n",
        "\t\tplt.subplot(330 + 1 + i)\n",
        "\t\tplt.imshow(X_batch[i].reshape(28, 28), cmap=plt.get_cmap('gray'))\n",
        "\t# show the plot\n",
        "\tplt.show()\n",
        "\tbreak"
      ],
      "execution_count": null,
      "outputs": [
        {
          "output_type": "display_data",
          "data": {
            "image/png": "[encoded data removed]",
            "text/plain": [
              "<Figure size 432x288 with 9 Axes>"
            ]
          },
          "metadata": {
            "tags": [],
            "needs_background": "light"
          }
        }
      ]
    },
    {
      "cell_type": "markdown",
      "metadata": {
        "id": "17uBIzr6Fy3X"
      },
      "source": [
        "After running the image augmentation we can see there are changes in the above two images and the most recent image has underfone some changes and looks more clearer. "
      ]
    },
    {
      "cell_type": "markdown",
      "metadata": {
        "id": "ZhRF0w7o_Ps3"
      },
      "source": [
        "# Part 1: Implementing MNIST classifier using Numpy\n",
        "\n",
        "The assignment is to implement MNIST classifier fully with all the things learnt in last class with many features in numpy in a colab."
      ]
    },
    {
      "cell_type": "markdown",
      "metadata": {
        "id": "M9wEDMZ2hxB-"
      },
      "source": [
        "## Building a neural network from scratch\n"
      ]
    },
    {
      "cell_type": "code",
      "metadata": {
        "id": "XYMK8rcOgk-r"
      },
      "source": [
        "# Mean Squared Error\n",
        "\n",
        "class MSE:\n",
        "  def __init__(self, y_pred, y_true):\n",
        "    self.y_pred = y_pred\n",
        "    self.y_true = y_true\n",
        "  \n",
        "  def get_error(self):\n",
        "    n = self.y_true.shape[0]\n",
        "    return ((self.y_pred - self.y_true) ** 2) / n\n",
        "  \n",
        "  def backward(self):\n",
        "    n = self.y_true.shape[0]\n",
        "    self.gradient = 2.0 * (self.y_pred - self.y_true) / n\n",
        "    return self.gradient"
      ],
      "execution_count": null,
      "outputs": []
    },
    {
      "cell_type": "code",
      "metadata": {
        "id": "x5cCeh8IPzS1"
      },
      "source": [
        "# Relu Activation layer\n",
        "\n",
        "class Relu:\n",
        "  def __init__(self):\n",
        "    self.input = np.array([])\n",
        "\n",
        "  def forward(self, input):\n",
        "    self.input = input.copy()\n",
        "    self.output = np.clip(self.input, 0, None)\n",
        "    return self.output\n",
        "  \n",
        "  def predict(self, input):\n",
        "    return np.clip(input, 0, None)\n",
        "    \n",
        "  def backward(self, upstr_gradient):\n",
        "    return (self.input > 0) * upstr_gradient\n",
        "  \n",
        "  def update(self, lr):\n",
        "    return\n",
        "\n",
        "  def __str__(self):\n",
        "    return 'ReLu'"
      ],
      "execution_count": null,
      "outputs": []
    },
    {
      "cell_type": "code",
      "metadata": {
        "id": "BOEEA4YDTmow"
      },
      "source": [
        "class Layer:\n",
        "  def __init__(self, n_input_nodes=1, n_output_nodes=1, activation_func=None):\n",
        "    self.n_input_nodes = n_input_nodes\n",
        "    self.n_output_nodes = n_output_nodes\n",
        "\n",
        "    # Idea refered from https://github.com/iamtrask/Grokking-Deep-Learning/blob/master/Chapter8%20-%20Intro%20to%20Regularization%20-%20Learning%20Signal%20and%20Ignoring%20Noise.ipynb\n",
        "    self.weights = 0.2 * np.random.random((n_input_nodes, n_output_nodes)) - 0.1\n",
        "    self.bias = 0.2 * np.random.random((1)) - 0.1\n",
        "    self.X = np.zeros([n_input_nodes])\n",
        "\n",
        "    if activation_func == 'relu':\n",
        "      self.activation_func = Relu()\n",
        "    else: \n",
        "      self.activation_func = None\n",
        "  \n",
        "  # For adding dropouts, idea refered from https://wiseodd.github.io/techblog/2016/06/25/dropout/\n",
        "  def forward(self, X, dpt):\n",
        "    self.X = X.copy()\n",
        "    self.Z = X @ self.weights + self.bias\n",
        "    \n",
        "    if self.activation_func == None:\n",
        "      return self.Z \n",
        "    else:\n",
        "      wgts_dpt = np.random.binomial(1, dpt, size=self.Z.shape) / dpt\n",
        "      return self.activation_func.forward(self.Z) * wgts_dpt\n",
        "\n",
        "  def predict (self, X):\n",
        "    if self.activation_func == None:\n",
        "      return X @ self.weights + self.bias\n",
        "    else:\n",
        "      return self.activation_func.predict(X @ self.weights + self.bias)\n",
        "\n",
        "  def backward(self, upstr_gradient):\n",
        "    current_upstr_gradient = upstr_gradient.copy()\n",
        "    if self.activation_func != None:\n",
        "      current_upstr_gradient = self.activation_func.backward(current_upstr_gradient)\n",
        "    \n",
        "    self.dJdW = self.X.T @ current_upstr_gradient\n",
        "    self.dJdb = current_upstr_gradient.sum()\n",
        "    self.dJdX = current_upstr_gradient @ self.weights.T\n",
        "    return self.dJdX\n",
        "\n",
        "  def update(self, lr):\n",
        "    self.weights = self.weights - lr * self.dJdW\n",
        "    self.bias = self.bias - lr * self.dJdb\n",
        "\n",
        "  def __str__(self):\n",
        "    return 'Layer: ({},{})'.format(self.n_input_nodes, self.n_output_nodes)"
      ],
      "execution_count": null,
      "outputs": []
    },
    {
      "cell_type": "code",
      "metadata": {
        "id": "FsvklPSIYy6t"
      },
      "source": [
        "from sklearn.metrics import mean_squared_error\n",
        "\n",
        "class NeuralNetwork_Model:\n",
        "  def __init__(self, n_inputs=3, n_hidden=[2], n_outputs=2, activation_func=None):\n",
        "    self.n_inputs = n_inputs\n",
        "    self.n_hidden = n_hidden\n",
        "    self.n_outputs = n_outputs\n",
        "\n",
        "    layers = [self.n_inputs] + self.n_hidden + [self.n_outputs]\n",
        "    \n",
        "    self.layers = []\n",
        "    for i in range(len(layers[:-1])):\n",
        "      # Not adding the activation function to last layer because it is a regression problem\n",
        "      if i == len(layers[:-1]) - 1:\n",
        "        self.layers.append(Layer(layers[i], layers[i + 1], activation_func=None))\n",
        "      else:\n",
        "        self.layers.append(Layer(layers[i], layers[i + 1], activation_func))\n",
        "\n",
        "    print('Neural Network Architecture:')\n",
        "    for i, layer in enumerate(self.layers):\n",
        "      print('---------------------- Layer {} ----------------------'.format(i))\n",
        "      print(layer)\n",
        "    print()\n",
        "\n",
        "  def forward(self, inputs, dpt):\n",
        "    current_output = inputs.copy()\n",
        "    for l in self.layers:\n",
        "      current_output = l.forward(current_output, dpt)\n",
        "    return current_output\n",
        "  \n",
        "  def predict(self, inputs):\n",
        "    current_output = inputs.copy()\n",
        "    for l in self.layers:\n",
        "      current_output = l.predict(current_output)\n",
        "    return current_output \n",
        "\n",
        "  def backward(self, y_pred, y_true):\n",
        "    mse = MSE(y_pred, y_true)\n",
        "    error = mse.get_error()\n",
        "    # print('MSE: ', mean_squared_error(y_true, y_pred))\n",
        "    loss_gradient = mse.backward()\n",
        "    gradient = loss_gradient.copy()\n",
        "    for layer in reversed(self.layers):\n",
        "      gradient = layer.backward(gradient)\n",
        "    \n",
        "  def update(self, lr):\n",
        "    for layer in self.layers:\n",
        "      layer.update(lr)\n",
        "  \n",
        "  # The below idea for coding the fit function has been refered from\n",
        "  # https://www.analyticsvidhya.com/blog/2020/08/image-augmentation-on-the-fly-using-keras-imagedatagenerator/\n",
        "  def fit(self, datagen, X_train_aug, X_train, y_train, X_test, y_test,epochs, batch_size, dpt):\n",
        "    # For metrics\n",
        "    train_loss = []\n",
        "    train_accuracy = []\n",
        "    test_loss = []\n",
        "    test_accuracy = []\n",
        "\n",
        "    for e in range(epochs):\n",
        "      if (e%10 == 0):\n",
        "        mini_batch = 0\n",
        "        # Tying the above implemented datagen.flow to each iteration.\n",
        "        for x_batch, y_batch in datagen.flow(X_train_aug, y_train, batch_size=batch_size):\n",
        "          X_train_2 = x_batch.reshape(x_batch.shape[0], num_pixels) / 255.\n",
        "          y_pred = self.forward(X_train_2, dpt)\n",
        "          self.backward(y_pred, y_batch)\n",
        "          self.update(lr)\n",
        "\n",
        "          if mini_batch >= len(X_train_aug) / batch_size:\n",
        "            break\n",
        "          mini_batch += 1\n",
        "\n",
        "        # Metrics\n",
        "        y_pred = self.predict(X_train)\n",
        "        train_loss_v = mean_squared_error(y_train, y_pred)\n",
        "        train_loss.append(train_loss_v)\n",
        "        train_accuracy_v = np.sum(np.argmax(y_pred, axis=1) == np.argmax(y_train, axis=1)) / len(y_train)\n",
        "        train_accuracy.append(train_accuracy_v)\n",
        "\n",
        "        y_pred = self.predict(X_test)\n",
        "        test_loss_v = mean_squared_error(y_test, y_pred)\n",
        "        test_loss.append(test_loss_v)\n",
        "        test_accuracy_v = np.sum(np.argmax(y_pred, axis=1) == np.argmax(y_test, axis=1)) / len(y_test)\n",
        "        test_accuracy.append(test_accuracy_v)\n",
        "\n",
        "        print('I: {} Train-Loss: {} Train-Accuracy: {} Test-Loss: {} Test-Accuracy: {}'. format(e, np.round(train_loss_v,4), np.round(train_accuracy_v,4), np.round(test_loss_v, 4), np.round(test_accuracy_v, 4)))\n",
        "\n",
        "    return train_loss, train_accuracy, test_loss, test_accuracy\n",
        "\n",
        "  def __str__(self):\n",
        "    s = [str(layer) for layer in self.layers]\n",
        "    return '\\n'.join(s)"
      ],
      "execution_count": null,
      "outputs": []
    },
    {
      "cell_type": "markdown",
      "metadata": {
        "id": "28q09GAvcH5P"
      },
      "source": [
        "# Hyperparameters"
      ]
    },
    {
      "cell_type": "code",
      "metadata": {
        "colab": {
          "base_uri": "https://localhost:8080/"
        },
        "id": "6agSqcvMcGXQ",
        "outputId": "22a67e3b-d824-4a7a-ad40-e987b1cdd4d6"
      },
      "source": [
        "# Number of Iterations\n",
        "epochs = 450\n",
        "\n",
        "# Learning rate of the algorithm\n",
        "lr = 0.006\n",
        "\n",
        "# Specify batch size\n",
        "batch_size = 128\n",
        "\n",
        "# Specifying dropouts\n",
        "dpt_1 = 0.5\n",
        "dpt_2 = 0.8\n",
        "\n",
        "# Input and output size.\n",
        "input = X_train.shape[1]\n",
        "output = Y_train.shape[1]\n",
        "\n",
        "datagen = ImageDataGenerator(\n",
        "        featurewise_center=False, \n",
        "        samplewise_center=False,  \n",
        "        featurewise_std_normalization=False,  \n",
        "        samplewise_std_normalization=False,  \n",
        "        zca_whitening=False,  \n",
        "        rotation_range=10, \n",
        "        zoom_range = 0.1, \n",
        "        width_shift_range=0.1, \n",
        "        height_shift_range=0.1,  \n",
        "        horizontal_flip=False, \n",
        "        vertical_flip=False)  \n",
        "\n",
        "X_train_aug = x_train.reshape(-1,28,28,1)\n",
        "\n",
        "print(X_train_aug.shape)\n",
        "print(input)\n",
        "print(output)\n",
        "print(X_train.shape)\n",
        "print(X_test.shape)\n",
        "print(Y_test.shape)\n",
        "print(Y_train.shape)"
      ],
      "execution_count": null,
      "outputs": [
        {
          "output_type": "stream",
          "text": [
            "(60000, 28, 28, 1)\n",
            "784\n",
            "10\n",
            "(60000, 784)\n",
            "(10000, 784)\n",
            "(10000, 10)\n",
            "(60000, 10)\n"
          ],
          "name": "stdout"
        }
      ]
    },
    {
      "cell_type": "markdown",
      "metadata": {
        "id": "KHSPbbRicp2C"
      },
      "source": [
        "# Training the Neural Network model with dropout 1 i.e 0.5"
      ]
    },
    {
      "cell_type": "code",
      "metadata": {
        "colab": {
          "base_uri": "https://localhost:8080/"
        },
        "id": "Y6Ym5LaZckxn",
        "outputId": "b51756f7-d4a2-4bf5-cd95-27c1c684d281"
      },
      "source": [
        "model_1 = NeuralNetwork_Model(n_inputs=input, n_hidden=[128, 64], n_outputs=output, activation_func='relu')\n",
        "train_loss, train_accuracy, test_loss, test_accuracy = model_1.fit(datagen, X_train_aug, X_train, Y_train, X_test, Y_test, epochs, batch_size, dpt_1)"
      ],
      "execution_count": null,
      "outputs": [
        {
          "output_type": "stream",
          "text": [
            "Neural Network Architecture:\n",
            "---------------------- Layer 0 ----------------------\n",
            "Layer: (784,128)\n",
            "---------------------- Layer 1 ----------------------\n",
            "Layer: (128,64)\n",
            "---------------------- Layer 2 ----------------------\n",
            "Layer: (64,10)\n",
            "\n",
            "I: 0 Train-Loss: 0.0822 Train-Accuracy: 0.4819 Test-Loss: 0.0819 Test-Accuracy: 0.4944\n",
            "I: 10 Train-Loss: 0.0768 Train-Accuracy: 0.5907 Test-Loss: 0.0764 Test-Accuracy: 0.6063\n",
            "I: 20 Train-Loss: 0.0761 Train-Accuracy: 0.5905 Test-Loss: 0.0757 Test-Accuracy: 0.5966\n",
            "I: 30 Train-Loss: 0.0765 Train-Accuracy: 0.5901 Test-Loss: 0.0762 Test-Accuracy: 0.5987\n",
            "I: 40 Train-Loss: 0.0763 Train-Accuracy: 0.5862 Test-Loss: 0.076 Test-Accuracy: 0.5935\n",
            "I: 50 Train-Loss: 0.076 Train-Accuracy: 0.6016 Test-Loss: 0.0757 Test-Accuracy: 0.6137\n",
            "I: 60 Train-Loss: 0.0754 Train-Accuracy: 0.5553 Test-Loss: 0.0751 Test-Accuracy: 0.5698\n",
            "I: 70 Train-Loss: 0.0752 Train-Accuracy: 0.5155 Test-Loss: 0.0748 Test-Accuracy: 0.5264\n",
            "I: 80 Train-Loss: 0.0752 Train-Accuracy: 0.4754 Test-Loss: 0.0748 Test-Accuracy: 0.4851\n",
            "I: 90 Train-Loss: 0.0757 Train-Accuracy: 0.5822 Test-Loss: 0.0754 Test-Accuracy: 0.5984\n",
            "I: 100 Train-Loss: 0.0739 Train-Accuracy: 0.5545 Test-Loss: 0.0735 Test-Accuracy: 0.5634\n",
            "I: 110 Train-Loss: 0.0729 Train-Accuracy: 0.5616 Test-Loss: 0.0725 Test-Accuracy: 0.569\n",
            "I: 120 Train-Loss: 0.0726 Train-Accuracy: 0.5354 Test-Loss: 0.0722 Test-Accuracy: 0.5453\n",
            "I: 130 Train-Loss: 0.0725 Train-Accuracy: 0.529 Test-Loss: 0.0722 Test-Accuracy: 0.5372\n",
            "I: 140 Train-Loss: 0.0718 Train-Accuracy: 0.6024 Test-Loss: 0.0715 Test-Accuracy: 0.6131\n",
            "I: 150 Train-Loss: 0.0709 Train-Accuracy: 0.6028 Test-Loss: 0.0705 Test-Accuracy: 0.6167\n",
            "I: 160 Train-Loss: 0.0702 Train-Accuracy: 0.5345 Test-Loss: 0.0697 Test-Accuracy: 0.551\n",
            "I: 170 Train-Loss: 0.07 Train-Accuracy: 0.5984 Test-Loss: 0.0694 Test-Accuracy: 0.6213\n",
            "I: 180 Train-Loss: 0.0685 Train-Accuracy: 0.5736 Test-Loss: 0.0681 Test-Accuracy: 0.5906\n",
            "I: 190 Train-Loss: 0.0684 Train-Accuracy: 0.5451 Test-Loss: 0.068 Test-Accuracy: 0.5548\n",
            "I: 200 Train-Loss: 0.0685 Train-Accuracy: 0.5897 Test-Loss: 0.0681 Test-Accuracy: 0.5984\n",
            "I: 210 Train-Loss: 0.0682 Train-Accuracy: 0.6126 Test-Loss: 0.0677 Test-Accuracy: 0.6201\n",
            "I: 220 Train-Loss: 0.0669 Train-Accuracy: 0.5943 Test-Loss: 0.0664 Test-Accuracy: 0.6074\n",
            "I: 230 Train-Loss: 0.0666 Train-Accuracy: 0.6105 Test-Loss: 0.0661 Test-Accuracy: 0.6161\n",
            "I: 240 Train-Loss: 0.0667 Train-Accuracy: 0.569 Test-Loss: 0.0661 Test-Accuracy: 0.5816\n",
            "I: 250 Train-Loss: 0.0656 Train-Accuracy: 0.6104 Test-Loss: 0.0651 Test-Accuracy: 0.6228\n",
            "I: 260 Train-Loss: 0.0658 Train-Accuracy: 0.5431 Test-Loss: 0.0653 Test-Accuracy: 0.5551\n",
            "I: 270 Train-Loss: 0.0652 Train-Accuracy: 0.6037 Test-Loss: 0.0645 Test-Accuracy: 0.6227\n",
            "I: 280 Train-Loss: 0.0647 Train-Accuracy: 0.6309 Test-Loss: 0.0642 Test-Accuracy: 0.6472\n",
            "I: 290 Train-Loss: 0.065 Train-Accuracy: 0.645 Test-Loss: 0.0644 Test-Accuracy: 0.6603\n",
            "I: 300 Train-Loss: 0.0641 Train-Accuracy: 0.5776 Test-Loss: 0.0635 Test-Accuracy: 0.5874\n",
            "I: 310 Train-Loss: 0.0643 Train-Accuracy: 0.6408 Test-Loss: 0.0638 Test-Accuracy: 0.6509\n",
            "I: 320 Train-Loss: 0.0633 Train-Accuracy: 0.6163 Test-Loss: 0.0628 Test-Accuracy: 0.619\n",
            "I: 330 Train-Loss: 0.0642 Train-Accuracy: 0.6307 Test-Loss: 0.0636 Test-Accuracy: 0.6482\n",
            "I: 340 Train-Loss: 0.0634 Train-Accuracy: 0.6033 Test-Loss: 0.0627 Test-Accuracy: 0.6186\n",
            "I: 350 Train-Loss: 0.0627 Train-Accuracy: 0.6351 Test-Loss: 0.0621 Test-Accuracy: 0.6434\n",
            "I: 360 Train-Loss: 0.0632 Train-Accuracy: 0.6698 Test-Loss: 0.0626 Test-Accuracy: 0.6812\n",
            "I: 370 Train-Loss: 0.0624 Train-Accuracy: 0.6598 Test-Loss: 0.0618 Test-Accuracy: 0.6721\n",
            "I: 380 Train-Loss: 0.062 Train-Accuracy: 0.6004 Test-Loss: 0.0615 Test-Accuracy: 0.6067\n",
            "I: 390 Train-Loss: 0.0625 Train-Accuracy: 0.638 Test-Loss: 0.0618 Test-Accuracy: 0.6492\n",
            "I: 400 Train-Loss: 0.0613 Train-Accuracy: 0.6185 Test-Loss: 0.0608 Test-Accuracy: 0.6292\n",
            "I: 410 Train-Loss: 0.0611 Train-Accuracy: 0.5821 Test-Loss: 0.0605 Test-Accuracy: 0.5901\n",
            "I: 420 Train-Loss: 0.0613 Train-Accuracy: 0.6071 Test-Loss: 0.0607 Test-Accuracy: 0.6146\n",
            "I: 430 Train-Loss: 0.0604 Train-Accuracy: 0.6748 Test-Loss: 0.0597 Test-Accuracy: 0.6881\n",
            "I: 440 Train-Loss: 0.0611 Train-Accuracy: 0.5982 Test-Loss: 0.0604 Test-Accuracy: 0.6064\n"
          ],
          "name": "stdout"
        }
      ]
    },
    {
      "cell_type": "code",
      "metadata": {
        "colab": {
          "base_uri": "https://localhost:8080/",
          "height": 513
        },
        "id": "CzEM-Q6Me5jl",
        "outputId": "8764d113-344b-47e4-a895-2ff52fe55258"
      },
      "source": [
        "plt.bar(range(len(train_accuracy)), train_accuracy, align='center', width=0.8, color='g', label='Train Accuracy')\n",
        "plt.bar(range(len(test_accuracy)), test_accuracy, align='center', width=0.4, color='r', label='Test Accuracy')\n",
        "plt.legend()\n",
        "\n",
        "plt.figure()\n",
        "plt.bar(range(len(train_loss)), train_loss, align='center', width=0.8, color='y', label='Train Loss')\n",
        "plt.bar(range(len(test_loss)), test_loss, align='center', width=0.4, color='c', label='Test Loss')\n",
        "plt.legend()\n",
        "plt.show()"
      ],
      "execution_count": null,
      "outputs": [
        {
          "output_type": "display_data",
          "data": {
            "image/png": "[encoded data removed]",
            "text/plain": [
              "<Figure size 432x288 with 1 Axes>"
            ]
          },
          "metadata": {
            "tags": [],
            "needs_background": "light"
          }
        },
        {
          "output_type": "display_data",
          "data": {
            "image/png": "[encoded data removed]",
            "text/plain": [
              "<Figure size 432x288 with 1 Axes>"
            ]
          },
          "metadata": {
            "tags": [],
            "needs_background": "light"
          }
        }
      ]
    },
    {
      "cell_type": "code",
      "metadata": {
        "id": "71Rmn1-LDBES"
      },
      "source": [
        "# Confusion Matrix \n",
        "import itertools\n",
        "from sklearn.metrics import confusion_matrix\n",
        "# Refered from https://www.kaggle.com/yassineghouzam/introduction-to-cnn-keras-0-997-top-6\n",
        "def plot_confusion_matrix(cm, classes,\n",
        "                          title='Confusion matrix',\n",
        "                          cmap=plt.cm.Blues):\n",
        "  \n",
        "    plt.imshow(cm, interpolation='nearest', cmap=cmap)\n",
        "    plt.title(title)\n",
        "    plt.colorbar()\n",
        "    tick_marks = np.arange(len(classes))\n",
        "    plt.xticks(tick_marks, classes, rotation=45)\n",
        "    plt.yticks(tick_marks, classes)\n",
        "\n",
        "    # if normalize:\n",
        "    #     cm = cm.astype('float') / cm.sum(axis=1)[:, np.newaxis]\n",
        "\n",
        "    thresh = cm.max() / 2.\n",
        "    for i, j in itertools.product(range(cm.shape[0]), range(cm.shape[1])):\n",
        "        plt.text(j, i, cm[i, j],\n",
        "                 horizontalalignment=\"center\",\n",
        "                 color=\"white\" if cm[i, j] > thresh else \"black\")\n",
        "\n",
        "    plt.tight_layout()\n",
        "    plt.ylabel('True label')\n",
        "    plt.xlabel('Predicted label')"
      ],
      "execution_count": null,
      "outputs": []
    },
    {
      "cell_type": "code",
      "metadata": {
        "colab": {
          "base_uri": "https://localhost:8080/",
          "height": 311
        },
        "id": "qhFMb8ogEUtB",
        "outputId": "3ae39d5d-af8c-4369-cfd2-7219d56be387"
      },
      "source": [
        "y_pred = model_1.predict(X_test)\n",
        "confusion_mtx = confusion_matrix(np.argmax(Y_test, axis=1), np.argmax(y_pred, axis=1))\n",
        "\n",
        "# plot the confusion matrix\n",
        "plot_confusion_matrix(confusion_mtx, list(range(0, 10)))"
      ],
      "execution_count": null,
      "outputs": [
        {
          "output_type": "display_data",
          "data": {
            "image/png": "[encoded data removed]",
            "text/plain": [
              "<Figure size 432x288 with 2 Axes>"
            ]
          },
          "metadata": {
            "tags": [],
            "needs_background": "light"
          }
        }
      ]
    },
    {
      "cell_type": "markdown",
      "metadata": {
        "id": "XuyTTPdljpy5"
      },
      "source": [
        "# Training the Neural Network model with dropout 2 i.e 0.8"
      ]
    },
    {
      "cell_type": "code",
      "metadata": {
        "colab": {
          "base_uri": "https://localhost:8080/"
        },
        "id": "yCvxcIN9j3Ec",
        "outputId": "e3dc3a52-57b5-4d93-8b17-68a08eaf44bc"
      },
      "source": [
        "model_2 = NeuralNetwork_Model(n_inputs=input, n_hidden=[128, 64], n_outputs=output, activation_func='relu')\n",
        "train_loss_2, train_accuracy_2, test_loss_2, test_accuracy_2 = model_2.fit(datagen, X_train_aug, X_train, Y_train, X_test, Y_test, epochs, batch_size, dpt_2)"
      ],
      "execution_count": null,
      "outputs": [
        {
          "output_type": "stream",
          "text": [
            "Neural Network Architecture:\n",
            "---------------------- Layer 0 ----------------------\n",
            "Layer: (784,128)\n",
            "---------------------- Layer 1 ----------------------\n",
            "Layer: (128,64)\n",
            "---------------------- Layer 2 ----------------------\n",
            "Layer: (64,10)\n",
            "\n",
            "I: 0 Train-Loss: 0.0807 Train-Accuracy: 0.4337 Test-Loss: 0.0805 Test-Accuracy: 0.441\n",
            "I: 10 Train-Loss: 0.0693 Train-Accuracy: 0.6179 Test-Loss: 0.0689 Test-Accuracy: 0.6296\n",
            "I: 20 Train-Loss: 0.0639 Train-Accuracy: 0.6999 Test-Loss: 0.0635 Test-Accuracy: 0.7149\n",
            "I: 30 Train-Loss: 0.0608 Train-Accuracy: 0.7258 Test-Loss: 0.0603 Test-Accuracy: 0.7477\n",
            "I: 40 Train-Loss: 0.0586 Train-Accuracy: 0.7404 Test-Loss: 0.0581 Test-Accuracy: 0.7585\n",
            "I: 50 Train-Loss: 0.0561 Train-Accuracy: 0.7407 Test-Loss: 0.0555 Test-Accuracy: 0.7637\n",
            "I: 60 Train-Loss: 0.0536 Train-Accuracy: 0.739 Test-Loss: 0.0529 Test-Accuracy: 0.7538\n",
            "I: 70 Train-Loss: 0.0517 Train-Accuracy: 0.7401 Test-Loss: 0.051 Test-Accuracy: 0.7547\n",
            "I: 80 Train-Loss: 0.0497 Train-Accuracy: 0.7541 Test-Loss: 0.049 Test-Accuracy: 0.7696\n",
            "I: 90 Train-Loss: 0.0483 Train-Accuracy: 0.7343 Test-Loss: 0.0475 Test-Accuracy: 0.7477\n",
            "I: 100 Train-Loss: 0.0471 Train-Accuracy: 0.7678 Test-Loss: 0.0462 Test-Accuracy: 0.7817\n",
            "I: 110 Train-Loss: 0.0464 Train-Accuracy: 0.7768 Test-Loss: 0.0457 Test-Accuracy: 0.7901\n",
            "I: 120 Train-Loss: 0.0455 Train-Accuracy: 0.779 Test-Loss: 0.0447 Test-Accuracy: 0.7923\n",
            "I: 130 Train-Loss: 0.0451 Train-Accuracy: 0.7944 Test-Loss: 0.0443 Test-Accuracy: 0.8063\n",
            "I: 140 Train-Loss: 0.0445 Train-Accuracy: 0.766 Test-Loss: 0.0437 Test-Accuracy: 0.7793\n",
            "I: 150 Train-Loss: 0.044 Train-Accuracy: 0.7946 Test-Loss: 0.0432 Test-Accuracy: 0.8074\n",
            "I: 160 Train-Loss: 0.0435 Train-Accuracy: 0.7792 Test-Loss: 0.0427 Test-Accuracy: 0.792\n",
            "I: 170 Train-Loss: 0.043 Train-Accuracy: 0.7978 Test-Loss: 0.0423 Test-Accuracy: 0.8064\n",
            "I: 180 Train-Loss: 0.0429 Train-Accuracy: 0.807 Test-Loss: 0.0421 Test-Accuracy: 0.8185\n",
            "I: 190 Train-Loss: 0.0428 Train-Accuracy: 0.7917 Test-Loss: 0.042 Test-Accuracy: 0.8022\n",
            "I: 200 Train-Loss: 0.0423 Train-Accuracy: 0.8062 Test-Loss: 0.0414 Test-Accuracy: 0.8207\n",
            "I: 210 Train-Loss: 0.0424 Train-Accuracy: 0.8114 Test-Loss: 0.0416 Test-Accuracy: 0.8227\n",
            "I: 220 Train-Loss: 0.0419 Train-Accuracy: 0.791 Test-Loss: 0.0411 Test-Accuracy: 0.7996\n",
            "I: 230 Train-Loss: 0.0419 Train-Accuracy: 0.8146 Test-Loss: 0.0411 Test-Accuracy: 0.8275\n",
            "I: 240 Train-Loss: 0.042 Train-Accuracy: 0.8111 Test-Loss: 0.0411 Test-Accuracy: 0.8225\n",
            "I: 250 Train-Loss: 0.041 Train-Accuracy: 0.8246 Test-Loss: 0.0401 Test-Accuracy: 0.8366\n",
            "I: 260 Train-Loss: 0.0411 Train-Accuracy: 0.8048 Test-Loss: 0.0404 Test-Accuracy: 0.8146\n",
            "I: 270 Train-Loss: 0.0409 Train-Accuracy: 0.7968 Test-Loss: 0.0401 Test-Accuracy: 0.8048\n",
            "I: 280 Train-Loss: 0.0406 Train-Accuracy: 0.8192 Test-Loss: 0.0398 Test-Accuracy: 0.8291\n",
            "I: 290 Train-Loss: 0.04 Train-Accuracy: 0.8126 Test-Loss: 0.0392 Test-Accuracy: 0.8217\n",
            "I: 300 Train-Loss: 0.0398 Train-Accuracy: 0.8195 Test-Loss: 0.039 Test-Accuracy: 0.8264\n",
            "I: 310 Train-Loss: 0.0398 Train-Accuracy: 0.8275 Test-Loss: 0.0389 Test-Accuracy: 0.8395\n",
            "I: 320 Train-Loss: 0.0399 Train-Accuracy: 0.8202 Test-Loss: 0.0391 Test-Accuracy: 0.8316\n",
            "I: 330 Train-Loss: 0.0393 Train-Accuracy: 0.8185 Test-Loss: 0.0385 Test-Accuracy: 0.8285\n",
            "I: 340 Train-Loss: 0.0394 Train-Accuracy: 0.8334 Test-Loss: 0.0385 Test-Accuracy: 0.8427\n",
            "I: 350 Train-Loss: 0.0396 Train-Accuracy: 0.8276 Test-Loss: 0.0388 Test-Accuracy: 0.8362\n",
            "I: 360 Train-Loss: 0.0387 Train-Accuracy: 0.8272 Test-Loss: 0.0379 Test-Accuracy: 0.8347\n",
            "I: 370 Train-Loss: 0.0391 Train-Accuracy: 0.8354 Test-Loss: 0.0383 Test-Accuracy: 0.8456\n",
            "I: 380 Train-Loss: 0.039 Train-Accuracy: 0.8186 Test-Loss: 0.0381 Test-Accuracy: 0.8286\n",
            "I: 390 Train-Loss: 0.039 Train-Accuracy: 0.8354 Test-Loss: 0.0381 Test-Accuracy: 0.8448\n",
            "I: 400 Train-Loss: 0.0384 Train-Accuracy: 0.8355 Test-Loss: 0.0376 Test-Accuracy: 0.8444\n",
            "I: 410 Train-Loss: 0.0388 Train-Accuracy: 0.8334 Test-Loss: 0.0381 Test-Accuracy: 0.8424\n",
            "I: 420 Train-Loss: 0.0383 Train-Accuracy: 0.8261 Test-Loss: 0.0374 Test-Accuracy: 0.8341\n",
            "I: 430 Train-Loss: 0.038 Train-Accuracy: 0.824 Test-Loss: 0.0371 Test-Accuracy: 0.8312\n",
            "I: 440 Train-Loss: 0.0378 Train-Accuracy: 0.8379 Test-Loss: 0.037 Test-Accuracy: 0.8475\n"
          ],
          "name": "stdout"
        }
      ]
    },
    {
      "cell_type": "markdown",
      "metadata": {
        "id": "A7TXERdwclmu"
      },
      "source": [
        "Observation: At dropout at '0.8' we see that the accuracies have increased than the dropout at '0.5'."
      ]
    },
    {
      "cell_type": "code",
      "metadata": {
        "colab": {
          "base_uri": "https://localhost:8080/",
          "height": 513
        },
        "id": "-IaOh_PoGFq3",
        "outputId": "7c58cd58-73d7-451f-bbbe-f2494b67eeb0"
      },
      "source": [
        "plt.bar(range(len(train_accuracy_2)), train_accuracy_2, align='center', width=0.8, color='g', label='Train Accuracy')\n",
        "plt.bar(range(len(test_accuracy_2)), test_accuracy_2, align='center', width=0.4, color='r', label='Test Accuracy')\n",
        "plt.legend()\n",
        "\n",
        "plt.figure()\n",
        "plt.bar(range(len(train_loss_2)), train_loss_2, align='center', width=0.8, color='y', label='Train Loss')\n",
        "plt.bar(range(len(test_loss_2)), test_loss_2, align='center', width=0.4, color='c', label='Test Loss')\n",
        "plt.legend()\n",
        "plt.show()"
      ],
      "execution_count": null,
      "outputs": [
        {
          "output_type": "display_data",
          "data": {
            "image/png": "[encoded data removed]",
            "text/plain": [
              "<Figure size 432x288 with 1 Axes>"
            ]
          },
          "metadata": {
            "tags": [],
            "needs_background": "light"
          }
        },
        {
          "output_type": "display_data",
          "data": {
            "image/png": "[encoded data removed]",
            "text/plain": [
              "<Figure size 432x288 with 1 Axes>"
            ]
          },
          "metadata": {
            "tags": [],
            "needs_background": "light"
          }
        }
      ]
    },
    {
      "cell_type": "code",
      "metadata": {
        "colab": {
          "base_uri": "https://localhost:8080/",
          "height": 311
        },
        "id": "VAA141a-Ghzx",
        "outputId": "510bac3f-ff23-4c6e-829c-4aa3ea43f66d"
      },
      "source": [
        "y_pred = model_2.predict(X_test)\n",
        "confusion_mtx_2 = confusion_matrix(np.argmax(Y_test, axis=1), np.argmax(y_pred, axis=1))\n",
        "\n",
        "# plot the confusion matrix\n",
        "plot_confusion_matrix(confusion_mtx_2, list(range(0, 10)))"
      ],
      "execution_count": null,
      "outputs": [
        {
          "output_type": "display_data",
          "data": {
            "image/png": "[encoded data removed]",
            "text/plain": [
              "<Figure size 432x288 with 2 Axes>"
            ]
          },
          "metadata": {
            "tags": [],
            "needs_background": "light"
          }
        }
      ]
    },
    {
      "cell_type": "markdown",
      "metadata": {
        "id": "7WWRVMzzdk52"
      },
      "source": [
        "# Part 1: Implementing MNIST classifier using Keras"
      ]
    },
    {
      "cell_type": "code",
      "metadata": {
        "id": "xPt4JPE1d1MV"
      },
      "source": [
        "# Importing the necessary libraries.\n",
        "\n",
        "import tensorflow as tf\n",
        "from tensorflow import keras\n",
        "from keras.models import Sequential\n",
        "from keras.layers import Dense\n",
        "from keras.layers import Dropout\n",
        "from keras.layers import Flatten"
      ],
      "execution_count": null,
      "outputs": []
    },
    {
      "cell_type": "code",
      "metadata": {
        "colab": {
          "base_uri": "https://localhost:8080/"
        },
        "id": "9paK1vGUehUq",
        "outputId": "c48b185e-29f1-4a50-ea7b-b4accc06ae24"
      },
      "source": [
        "# Refered from https://www.kaggle.com/yassineghouzam/introduction-to-cnn-keras-0-997-top-6\n",
        "\n",
        "# Number of Iterations\n",
        "epochs = 20\n",
        "\n",
        "# Learning rate of the algorithm\n",
        "lr = 0.01\n",
        "\n",
        "# Specify batch size\n",
        "batch_size = 128\n",
        "\n",
        "# Input and output size.\n",
        "input = X_train.shape[1]\n",
        "output = Y_train.shape[1]\n",
        "\n",
        "X_train_aug = x_train.reshape(-1,28,28,1)\n",
        "X_test_aug = x_test.reshape(-1, 28, 28, 1)\n",
        "\n",
        "print(X_train_aug.shape)\n",
        "print(X_test_aug.shape)\n",
        "print(input)\n",
        "print(output)\n"
      ],
      "execution_count": null,
      "outputs": [
        {
          "output_type": "stream",
          "text": [
            "(60000, 28, 28, 1)\n",
            "(10000, 28, 28, 1)\n",
            "784\n",
            "10\n"
          ],
          "name": "stdout"
        }
      ]
    },
    {
      "cell_type": "code",
      "metadata": {
        "id": "lw1HpoBwgYMx"
      },
      "source": [
        "# Image augmentations for Keras Model\n",
        "datagen_keras = ImageDataGenerator(\n",
        "        featurewise_center=False, \n",
        "        samplewise_center=False,  \n",
        "        featurewise_std_normalization=False,  \n",
        "        samplewise_std_normalization=False,  \n",
        "        zca_whitening=False,  \n",
        "        rotation_range=10, \n",
        "        zoom_range = 0.1, \n",
        "        width_shift_range=0.1, \n",
        "        height_shift_range=0.1,  \n",
        "        horizontal_flip=False, \n",
        "        vertical_flip=False)  \n",
        "\n",
        "datagen_keras.fit(X_train_aug)"
      ],
      "execution_count": null,
      "outputs": []
    },
    {
      "cell_type": "code",
      "metadata": {
        "id": "_Go2VZyEgyNM"
      },
      "source": [
        "# Baseline Model\n",
        "num_classes = 10\n",
        "\n",
        "def baseline_model():\n",
        "  model = Sequential()\n",
        "  model.add(Dense(784, activation='relu'))\n",
        "  model.add(Dropout(0.2))\n",
        "  model.add(Dense(512, activation='relu'))\n",
        "  model.add(Dropout(0.2))\n",
        "  model.add(Flatten())\n",
        "  model.add(Dense(128, activation='relu'))\n",
        "  model.add(Dropout(0.2))\n",
        "  model.add(Dense(num_classes, activation='softmax'))\n",
        "  # Compile model\n",
        "  # Refered from https://www.tensorflow.org/api_docs/python/tf/keras/optimizers/SGD\n",
        "  model.compile(loss='categorical_crossentropy', optimizer=tf.keras.optimizers.SGD(learning_rate=lr), metrics=['accuracy'])\n",
        "  return model"
      ],
      "execution_count": null,
      "outputs": []
    },
    {
      "cell_type": "code",
      "metadata": {
        "colab": {
          "base_uri": "https://localhost:8080/"
        },
        "id": "2q00Js2ppZFq",
        "outputId": "3380abbb-fa61-4904-c7a6-26141ed7a3b4"
      },
      "source": [
        "model = baseline_model()\n",
        "\n",
        "# Refered from https://www.analyticsvidhya.com/blog/2020/08/image-augmentation-on-the-fly-using-keras-imagedatagenerator/\n",
        "history = model.fit(\n",
        "            datagen_keras.flow(X_train_aug, Y_train, batch_size=batch_size),\n",
        "            steps_per_epoch=X_train_aug.shape[0] // batch_size,\n",
        "            epochs = epochs,\n",
        "            validation_data = datagen_keras.flow(X_test_aug, Y_test, batch_size=batch_size),\n",
        "            validation_steps = X_test_aug.shape[0] // batch_size\n",
        "            )"
      ],
      "execution_count": null,
      "outputs": [
        {
          "output_type": "stream",
          "text": [
            "Epoch 1/20\n",
            "468/468 [==============================] - 72s 153ms/step - loss: 5.1817 - accuracy: 0.4660 - val_loss: 0.4847 - val_accuracy: 0.8528\n",
            "Epoch 2/20\n",
            "468/468 [==============================] - 73s 155ms/step - loss: 0.6496 - accuracy: 0.7982 - val_loss: 0.3721 - val_accuracy: 0.8961\n",
            "Epoch 3/20\n",
            "468/468 [==============================] - 74s 157ms/step - loss: 0.5406 - accuracy: 0.8323 - val_loss: 0.3360 - val_accuracy: 0.9064\n",
            "Epoch 4/20\n",
            "468/468 [==============================] - 74s 159ms/step - loss: 0.4837 - accuracy: 0.8504 - val_loss: 0.2851 - val_accuracy: 0.9168\n",
            "Epoch 5/20\n",
            "468/468 [==============================] - 74s 159ms/step - loss: 0.4570 - accuracy: 0.8587 - val_loss: 0.2743 - val_accuracy: 0.9199\n",
            "Epoch 6/20\n",
            "468/468 [==============================] - 74s 159ms/step - loss: 0.4183 - accuracy: 0.8726 - val_loss: 0.2541 - val_accuracy: 0.9286\n",
            "Epoch 7/20\n",
            "468/468 [==============================] - 74s 159ms/step - loss: 0.4102 - accuracy: 0.8746 - val_loss: 0.2436 - val_accuracy: 0.9311\n",
            "Epoch 8/20\n",
            "468/468 [==============================] - 74s 159ms/step - loss: 0.3771 - accuracy: 0.8848 - val_loss: 0.2206 - val_accuracy: 0.9381\n",
            "Epoch 9/20\n",
            "468/468 [==============================] - 75s 159ms/step - loss: 0.3629 - accuracy: 0.8894 - val_loss: 0.2112 - val_accuracy: 0.9353\n",
            "Epoch 10/20\n",
            "468/468 [==============================] - 75s 159ms/step - loss: 0.3631 - accuracy: 0.8914 - val_loss: 0.2106 - val_accuracy: 0.9396\n",
            "Epoch 11/20\n",
            "468/468 [==============================] - 74s 159ms/step - loss: 0.3417 - accuracy: 0.8947 - val_loss: 0.1975 - val_accuracy: 0.9442\n",
            "Epoch 12/20\n",
            "468/468 [==============================] - 74s 159ms/step - loss: 0.3327 - accuracy: 0.8985 - val_loss: 0.1925 - val_accuracy: 0.9436\n",
            "Epoch 13/20\n",
            "468/468 [==============================] - 75s 159ms/step - loss: 0.3307 - accuracy: 0.8995 - val_loss: 0.1825 - val_accuracy: 0.9480\n",
            "Epoch 14/20\n",
            "468/468 [==============================] - 74s 159ms/step - loss: 0.3216 - accuracy: 0.9021 - val_loss: 0.1903 - val_accuracy: 0.9415\n",
            "Epoch 15/20\n",
            "468/468 [==============================] - 74s 159ms/step - loss: 0.3235 - accuracy: 0.9023 - val_loss: 0.1850 - val_accuracy: 0.9453\n",
            "Epoch 16/20\n",
            "468/468 [==============================] - 74s 159ms/step - loss: 0.3148 - accuracy: 0.9072 - val_loss: 0.1721 - val_accuracy: 0.9467\n",
            "Epoch 17/20\n",
            "468/468 [==============================] - 74s 159ms/step - loss: 0.3108 - accuracy: 0.9084 - val_loss: 0.1745 - val_accuracy: 0.9470\n",
            "Epoch 18/20\n",
            "468/468 [==============================] - 74s 159ms/step - loss: 0.3118 - accuracy: 0.9067 - val_loss: 0.1666 - val_accuracy: 0.9517\n",
            "Epoch 19/20\n",
            "468/468 [==============================] - 74s 159ms/step - loss: 0.3031 - accuracy: 0.9086 - val_loss: 0.1737 - val_accuracy: 0.9478\n",
            "Epoch 20/20\n",
            "468/468 [==============================] - 74s 159ms/step - loss: 0.3012 - accuracy: 0.9101 - val_loss: 0.1776 - val_accuracy: 0.9505\n"
          ],
          "name": "stdout"
        }
      ]
    },
    {
      "cell_type": "markdown",
      "metadata": {
        "id": "ZsBB53waHb3S"
      },
      "source": [
        "Validation Accuracy is 95%."
      ]
    },
    {
      "cell_type": "code",
      "metadata": {
        "colab": {
          "base_uri": "https://localhost:8080/",
          "height": 530
        },
        "id": "Aw_Hutg97Epx",
        "outputId": "769964fc-fb9e-4d37-fbe7-c247e123cd41"
      },
      "source": [
        "plt.plot(history.history['accuracy'], color='g', label='Train Accuracy')\n",
        "plt.plot(history.history['val_accuracy'], color='r', label='Validation Accuracy')\n",
        "plt.legend()\n",
        "\n",
        "plt.figure()\n",
        "plt.plot(history.history['loss'], color='y', label='Train Loss')\n",
        "plt.plot(history.history['val_loss'], color='c', label='Validation Loss')\n",
        "plt.legend()"
      ],
      "execution_count": null,
      "outputs": [
        {
          "output_type": "execute_result",
          "data": {
            "text/plain": [
              "<matplotlib.legend.Legend at 0x7f13166143d0>"
            ]
          },
          "metadata": {
            "tags": []
          },
          "execution_count": 98
        },
        {
          "output_type": "display_data",
          "data": {
            "image/png": "[encoded data removed]",
            "text/plain": [
              "<Figure size 432x288 with 1 Axes>"
            ]
          },
          "metadata": {
            "tags": [],
            "needs_background": "light"
          }
        },
        {
          "output_type": "display_data",
          "data": {
            "image/png": "[encoded data removed]",
            "text/plain": [
              "<Figure size 432x288 with 1 Axes>"
            ]
          },
          "metadata": {
            "tags": [],
            "needs_background": "light"
          }
        }
      ]
    },
    {
      "cell_type": "markdown",
      "metadata": {
        "id": "o9vmd87UT368"
      },
      "source": [
        "## References :\n",
        "\n",
        "1) Class Slides <br>\n",
        "2) https://towardsdatascience.com/building-neural-network-from-scratch-9c88535bf8e9 <br>\n",
        "3) https://www.kdnuggets.com/2019/08/numpy-neural-networks-computational-graphs.html <br>\n",
        "4) https://machinelearningmastery.com/handwritten-digit-recognition-using-convolutional-neural-networks-python-keras/ <br>\n",
        "5) https://github.com/kdexd/digit-classifier <br>\n",
        "6) https://github.com/kdexd/digit-classifier/blob/master/network.py <br>\n",
        "7) https://www.kaggle.com/yassineghouzam/introduction-to-cnn-keras-0-997-top-6 <br>\n",
        "8) https://machinelearningmastery.com/image-augmentation-deep-learning-keras/"
      ]
    }
  ]
}